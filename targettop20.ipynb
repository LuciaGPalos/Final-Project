{
 "cells": [
  {
   "cell_type": "code",
   "execution_count": 64,
   "id": "18cc9325-a968-44bb-8ff0-7cbbf0947dad",
   "metadata": {},
   "outputs": [],
   "source": [
    "import pandas as pd\n",
    "from sklearn.model_selection import train_test_split\n",
    "import numpy as np\n",
    "import matplotlib.pyplot as plt\n",
    "from sklearn.preprocessing import StandardScaler, OneHotEncoder\n",
    "from sklearn.compose import ColumnTransformer\n",
    "from sklearn.linear_model import LogisticRegression\n",
    "from scipy.stats import uniform\n",
    "from sklearn.pipeline import Pipeline\n",
    "from sklearn.model_selection import RandomizedSearchCV, GridSearchCV\n",
    "from sklearn.metrics import confusion_matrix, ConfusionMatrixDisplay \n",
    "from sklearn.metrics import roc_auc_score\n",
    "import seaborn as sns\n",
    "from sklearn.decomposition import PCA\n",
    "\n",
    "from sklearn.impute import KNNImputer, SimpleImputer\n",
    "\n",
    "from sklearn.ensemble import RandomForestClassifier\n",
    "from sklearn.metrics import accuracy_score\n",
    "from sklearn.metrics import recall_score\n",
    "from sklearn.metrics import precision_score"
   ]
  },
  {
   "cell_type": "code",
   "execution_count": 28,
   "id": "e890c894-40d9-473d-ab2d-fc66d4baa477",
   "metadata": {},
   "outputs": [],
   "source": [
    "df = pd.read_csv('fifa_variables.csv')"
   ]
  },
  {
   "cell_type": "code",
   "execution_count": 29,
   "id": "1cbe9161",
   "metadata": {},
   "outputs": [],
   "source": [
    "df = df[~df['Ranking'].isna()]"
   ]
  },
  {
   "cell_type": "code",
   "execution_count": 30,
   "id": "226fdd7b-9a3e-4f59-b7f5-7f79625031ae",
   "metadata": {},
   "outputs": [
    {
     "data": {
      "text/html": [
       "<div>\n",
       "<style scoped>\n",
       "    .dataframe tbody tr th:only-of-type {\n",
       "        vertical-align: middle;\n",
       "    }\n",
       "\n",
       "    .dataframe tbody tr th {\n",
       "        vertical-align: top;\n",
       "    }\n",
       "\n",
       "    .dataframe thead th {\n",
       "        text-align: right;\n",
       "    }\n",
       "</style>\n",
       "<table border=\"1\" class=\"dataframe\">\n",
       "  <thead>\n",
       "    <tr style=\"text-align: right;\">\n",
       "      <th></th>\n",
       "      <th>Country Name</th>\n",
       "      <th>Country Code</th>\n",
       "      <th>Year</th>\n",
       "      <th>Unemployment Rate</th>\n",
       "      <th>PIB p/c</th>\n",
       "      <th>Population</th>\n",
       "      <th>Life Expectancy</th>\n",
       "      <th>Gini Index</th>\n",
       "      <th>Current Health Expenditure</th>\n",
       "      <th>Primary Completion Rate</th>\n",
       "      <th>Prevelance of Food Insecurity</th>\n",
       "      <th>Ranking</th>\n",
       "      <th>Puntos Totales</th>\n",
       "    </tr>\n",
       "  </thead>\n",
       "  <tbody>\n",
       "    <tr>\n",
       "      <th>0</th>\n",
       "      <td>Afghanistan</td>\n",
       "      <td>AFG</td>\n",
       "      <td>2013</td>\n",
       "      <td>NaN</td>\n",
       "      <td>651.987862</td>\n",
       "      <td>31541209</td>\n",
       "      <td>62.417</td>\n",
       "      <td>NaN</td>\n",
       "      <td>8.805941</td>\n",
       "      <td>NaN</td>\n",
       "      <td>NaN</td>\n",
       "      <td>140.0</td>\n",
       "      <td>184.0</td>\n",
       "    </tr>\n",
       "    <tr>\n",
       "      <th>1</th>\n",
       "      <td>Albania</td>\n",
       "      <td>ALB</td>\n",
       "      <td>2013</td>\n",
       "      <td>15.87</td>\n",
       "      <td>4413.062005</td>\n",
       "      <td>2895092</td>\n",
       "      <td>78.123</td>\n",
       "      <td>NaN</td>\n",
       "      <td>5.385611</td>\n",
       "      <td>89.539177</td>\n",
       "      <td>NaN</td>\n",
       "      <td>57.0</td>\n",
       "      <td>571.0</td>\n",
       "    </tr>\n",
       "    <tr>\n",
       "      <th>2</th>\n",
       "      <td>Algeria</td>\n",
       "      <td>DZA</td>\n",
       "      <td>2013</td>\n",
       "      <td>9.82</td>\n",
       "      <td>5519.777576</td>\n",
       "      <td>38000626</td>\n",
       "      <td>74.615</td>\n",
       "      <td>NaN</td>\n",
       "      <td>6.035763</td>\n",
       "      <td>106.031677</td>\n",
       "      <td>NaN</td>\n",
       "      <td>26.0</td>\n",
       "      <td>800.0</td>\n",
       "    </tr>\n",
       "    <tr>\n",
       "      <th>3</th>\n",
       "      <td>American Samoa</td>\n",
       "      <td>ASM</td>\n",
       "      <td>2013</td>\n",
       "      <td>NaN</td>\n",
       "      <td>12038.871590</td>\n",
       "      <td>52995</td>\n",
       "      <td>NaN</td>\n",
       "      <td>NaN</td>\n",
       "      <td>NaN</td>\n",
       "      <td>NaN</td>\n",
       "      <td>NaN</td>\n",
       "      <td>196.0</td>\n",
       "      <td>18.0</td>\n",
       "    </tr>\n",
       "    <tr>\n",
       "      <th>4</th>\n",
       "      <td>Andorra</td>\n",
       "      <td>AND</td>\n",
       "      <td>2013</td>\n",
       "      <td>NaN</td>\n",
       "      <td>44750.435680</td>\n",
       "      <td>71367</td>\n",
       "      <td>NaN</td>\n",
       "      <td>NaN</td>\n",
       "      <td>6.155028</td>\n",
       "      <td>NaN</td>\n",
       "      <td>NaN</td>\n",
       "      <td>198.0</td>\n",
       "      <td>17.0</td>\n",
       "    </tr>\n",
       "  </tbody>\n",
       "</table>\n",
       "</div>"
      ],
      "text/plain": [
       "     Country Name Country Code  Year  Unemployment Rate       PIB p/c  \\\n",
       "0     Afghanistan          AFG  2013                NaN    651.987862   \n",
       "1         Albania          ALB  2013              15.87   4413.062005   \n",
       "2         Algeria          DZA  2013               9.82   5519.777576   \n",
       "3  American Samoa          ASM  2013                NaN  12038.871590   \n",
       "4         Andorra          AND  2013                NaN  44750.435680   \n",
       "\n",
       "   Population  Life Expectancy  Gini Index  Current Health Expenditure  \\\n",
       "0    31541209           62.417         NaN                    8.805941   \n",
       "1     2895092           78.123         NaN                    5.385611   \n",
       "2    38000626           74.615         NaN                    6.035763   \n",
       "3       52995              NaN         NaN                         NaN   \n",
       "4       71367              NaN         NaN                    6.155028   \n",
       "\n",
       "   Primary Completion Rate  Prevelance of Food Insecurity  Ranking  \\\n",
       "0                      NaN                            NaN    140.0   \n",
       "1                89.539177                            NaN     57.0   \n",
       "2               106.031677                            NaN     26.0   \n",
       "3                      NaN                            NaN    196.0   \n",
       "4                      NaN                            NaN    198.0   \n",
       "\n",
       "   Puntos Totales  \n",
       "0           184.0  \n",
       "1           571.0  \n",
       "2           800.0  \n",
       "3            18.0  \n",
       "4            17.0  "
      ]
     },
     "execution_count": 30,
     "metadata": {},
     "output_type": "execute_result"
    }
   ],
   "source": [
    "df.head(5)"
   ]
  },
  {
   "cell_type": "code",
   "execution_count": 31,
   "id": "0aad33cc-8c2c-4b81-bdf5-a49dcaaa33b6",
   "metadata": {},
   "outputs": [
    {
     "data": {
      "text/plain": [
       "Index(['Country Name', 'Country Code', 'Year', 'Unemployment Rate', 'PIB p/c',\n",
       "       'Population', 'Life Expectancy', 'Gini Index',\n",
       "       'Current Health Expenditure', 'Primary Completion Rate',\n",
       "       'Prevelance of Food Insecurity', 'Ranking', 'Puntos Totales'],\n",
       "      dtype='object')"
      ]
     },
     "execution_count": 31,
     "metadata": {},
     "output_type": "execute_result"
    }
   ],
   "source": [
    "df.columns"
   ]
  },
  {
   "cell_type": "code",
   "execution_count": 32,
   "id": "cc6d831b-48bf-49dd-9073-63765ba94298",
   "metadata": {},
   "outputs": [
    {
     "data": {
      "text/plain": [
       "(1686, 13)"
      ]
     },
     "execution_count": 32,
     "metadata": {},
     "output_type": "execute_result"
    }
   ],
   "source": [
    "df.shape"
   ]
  },
  {
   "cell_type": "code",
   "execution_count": 33,
   "id": "504e70a5",
   "metadata": {},
   "outputs": [
    {
     "data": {
      "text/html": [
       "<div>\n",
       "<style scoped>\n",
       "    .dataframe tbody tr th:only-of-type {\n",
       "        vertical-align: middle;\n",
       "    }\n",
       "\n",
       "    .dataframe tbody tr th {\n",
       "        vertical-align: top;\n",
       "    }\n",
       "\n",
       "    .dataframe thead th {\n",
       "        text-align: right;\n",
       "    }\n",
       "</style>\n",
       "<table border=\"1\" class=\"dataframe\">\n",
       "  <thead>\n",
       "    <tr style=\"text-align: right;\">\n",
       "      <th></th>\n",
       "      <th>Country Name</th>\n",
       "      <th>Country Code</th>\n",
       "      <th>Year</th>\n",
       "      <th>Unemployment Rate</th>\n",
       "      <th>PIB p/c</th>\n",
       "      <th>Population</th>\n",
       "      <th>Life Expectancy</th>\n",
       "      <th>Gini Index</th>\n",
       "      <th>Current Health Expenditure</th>\n",
       "      <th>Primary Completion Rate</th>\n",
       "      <th>Prevelance of Food Insecurity</th>\n",
       "      <th>Ranking</th>\n",
       "      <th>Puntos Totales</th>\n",
       "    </tr>\n",
       "  </thead>\n",
       "  <tbody>\n",
       "    <tr>\n",
       "      <th>0</th>\n",
       "      <td>Afghanistan</td>\n",
       "      <td>AFG</td>\n",
       "      <td>2013</td>\n",
       "      <td>NaN</td>\n",
       "      <td>651.987862</td>\n",
       "      <td>31541209</td>\n",
       "      <td>62.417</td>\n",
       "      <td>NaN</td>\n",
       "      <td>8.805941</td>\n",
       "      <td>NaN</td>\n",
       "      <td>NaN</td>\n",
       "      <td>140.0</td>\n",
       "      <td>184.0</td>\n",
       "    </tr>\n",
       "    <tr>\n",
       "      <th>1</th>\n",
       "      <td>Albania</td>\n",
       "      <td>ALB</td>\n",
       "      <td>2013</td>\n",
       "      <td>15.87</td>\n",
       "      <td>4413.062005</td>\n",
       "      <td>2895092</td>\n",
       "      <td>78.123</td>\n",
       "      <td>NaN</td>\n",
       "      <td>5.385611</td>\n",
       "      <td>89.539177</td>\n",
       "      <td>NaN</td>\n",
       "      <td>57.0</td>\n",
       "      <td>571.0</td>\n",
       "    </tr>\n",
       "    <tr>\n",
       "      <th>2</th>\n",
       "      <td>Algeria</td>\n",
       "      <td>DZA</td>\n",
       "      <td>2013</td>\n",
       "      <td>9.82</td>\n",
       "      <td>5519.777576</td>\n",
       "      <td>38000626</td>\n",
       "      <td>74.615</td>\n",
       "      <td>NaN</td>\n",
       "      <td>6.035763</td>\n",
       "      <td>106.031677</td>\n",
       "      <td>NaN</td>\n",
       "      <td>26.0</td>\n",
       "      <td>800.0</td>\n",
       "    </tr>\n",
       "    <tr>\n",
       "      <th>3</th>\n",
       "      <td>American Samoa</td>\n",
       "      <td>ASM</td>\n",
       "      <td>2013</td>\n",
       "      <td>NaN</td>\n",
       "      <td>12038.871590</td>\n",
       "      <td>52995</td>\n",
       "      <td>NaN</td>\n",
       "      <td>NaN</td>\n",
       "      <td>NaN</td>\n",
       "      <td>NaN</td>\n",
       "      <td>NaN</td>\n",
       "      <td>196.0</td>\n",
       "      <td>18.0</td>\n",
       "    </tr>\n",
       "    <tr>\n",
       "      <th>4</th>\n",
       "      <td>Andorra</td>\n",
       "      <td>AND</td>\n",
       "      <td>2013</td>\n",
       "      <td>NaN</td>\n",
       "      <td>44750.435680</td>\n",
       "      <td>71367</td>\n",
       "      <td>NaN</td>\n",
       "      <td>NaN</td>\n",
       "      <td>6.155028</td>\n",
       "      <td>NaN</td>\n",
       "      <td>NaN</td>\n",
       "      <td>198.0</td>\n",
       "      <td>17.0</td>\n",
       "    </tr>\n",
       "  </tbody>\n",
       "</table>\n",
       "</div>"
      ],
      "text/plain": [
       "     Country Name Country Code  Year  Unemployment Rate       PIB p/c  \\\n",
       "0     Afghanistan          AFG  2013                NaN    651.987862   \n",
       "1         Albania          ALB  2013              15.87   4413.062005   \n",
       "2         Algeria          DZA  2013               9.82   5519.777576   \n",
       "3  American Samoa          ASM  2013                NaN  12038.871590   \n",
       "4         Andorra          AND  2013                NaN  44750.435680   \n",
       "\n",
       "   Population  Life Expectancy  Gini Index  Current Health Expenditure  \\\n",
       "0    31541209           62.417         NaN                    8.805941   \n",
       "1     2895092           78.123         NaN                    5.385611   \n",
       "2    38000626           74.615         NaN                    6.035763   \n",
       "3       52995              NaN         NaN                         NaN   \n",
       "4       71367              NaN         NaN                    6.155028   \n",
       "\n",
       "   Primary Completion Rate  Prevelance of Food Insecurity  Ranking  \\\n",
       "0                      NaN                            NaN    140.0   \n",
       "1                89.539177                            NaN     57.0   \n",
       "2               106.031677                            NaN     26.0   \n",
       "3                      NaN                            NaN    196.0   \n",
       "4                      NaN                            NaN    198.0   \n",
       "\n",
       "   Puntos Totales  \n",
       "0           184.0  \n",
       "1           571.0  \n",
       "2           800.0  \n",
       "3            18.0  \n",
       "4            17.0  "
      ]
     },
     "execution_count": 33,
     "metadata": {},
     "output_type": "execute_result"
    }
   ],
   "source": [
    "df.head()"
   ]
  },
  {
   "cell_type": "code",
   "execution_count": 34,
   "id": "5e23ca17-5fc1-4c0e-9853-5ccc77f3d0cc",
   "metadata": {},
   "outputs": [
    {
     "data": {
      "text/plain": [
       "211"
      ]
     },
     "execution_count": 34,
     "metadata": {},
     "output_type": "execute_result"
    }
   ],
   "source": [
    "df['Ranking'].nunique()"
   ]
  },
  {
   "cell_type": "code",
   "execution_count": 35,
   "id": "3524a093-6e3b-485a-bb55-8050f8deaa88",
   "metadata": {},
   "outputs": [],
   "source": [
    "# def convert_ranking(x):\n",
    "#     if x<=10:\n",
    "#         return 10\n",
    "#     if x<=20:\n",
    "#         return 20\n",
    "#     if x<=30:\n",
    "#         return 30\n",
    "#     if x<=40:\n",
    "#         return 40\n",
    "#     if x<=50:\n",
    "#         return 50\n",
    "#     if x<=60:\n",
    "#         return 60\n",
    "#     if x<=70:\n",
    "#         return 70\n",
    "#     if x<=80:\n",
    "#         return 80\n",
    "#     if x<=90:\n",
    "#         return 90\n",
    "#     if x<=100:\n",
    "#         return 100\n",
    "#     if x<=110:\n",
    "#         return 110\n",
    "#     if x<=120:\n",
    "#         return 120\n",
    "#     if x<=130:\n",
    "#         return 130\n",
    "#     if x<=140:\n",
    "#         return 140\n",
    "#     if x<=150:\n",
    "#         return 150\n",
    "#     if x<=160:\n",
    "#         return 160\n",
    "#     if x<=170:\n",
    "#         return 170\n",
    "#     if x<=180:\n",
    "#         return 180\n",
    "#     if x<=190:\n",
    "#         return 190\n",
    "#     if x<=200:\n",
    "#         return 200\n",
    "#     else:\n",
    "#         return 205"
   ]
  },
  {
   "cell_type": "code",
   "execution_count": 36,
   "id": "08504a88",
   "metadata": {},
   "outputs": [],
   "source": [
    "def convert_ranking_top20(x):\n",
    "    if x<=20:\n",
    "        return True\n",
    "    else:\n",
    "        return False"
   ]
  },
  {
   "cell_type": "code",
   "execution_count": 37,
   "id": "5a082ef0-af8e-4787-aace-bf2722d76e1d",
   "metadata": {},
   "outputs": [],
   "source": [
    "# df['Ranking'] = df['Ranking'].apply(convert_ranking)"
   ]
  },
  {
   "cell_type": "code",
   "execution_count": 38,
   "id": "d82f8225",
   "metadata": {},
   "outputs": [],
   "source": [
    "df['is_top20'] = df['Ranking'].apply(convert_ranking_top20)"
   ]
  },
  {
   "cell_type": "code",
   "execution_count": 39,
   "id": "db6ca4c8-0a63-4a22-8fea-9bcf3ca903dd",
   "metadata": {},
   "outputs": [],
   "source": [
    "# df['Ranking'] = df['Ranking'].astype(int)"
   ]
  },
  {
   "cell_type": "code",
   "execution_count": 40,
   "id": "39af969a-5c7a-475a-933e-7b83b5289b93",
   "metadata": {},
   "outputs": [
    {
     "data": {
      "text/plain": [
       "0.09786476868327403"
      ]
     },
     "execution_count": 40,
     "metadata": {},
     "output_type": "execute_result"
    }
   ],
   "source": [
    "df['is_top20'].mean()"
   ]
  },
  {
   "cell_type": "code",
   "execution_count": 41,
   "id": "5906255f-d4a8-433a-8a4a-ab1c6e4718d4",
   "metadata": {},
   "outputs": [
    {
     "data": {
      "text/plain": [
       "211"
      ]
     },
     "execution_count": 41,
     "metadata": {},
     "output_type": "execute_result"
    }
   ],
   "source": [
    "df['Ranking'].nunique()"
   ]
  },
  {
   "cell_type": "code",
   "execution_count": 42,
   "id": "c59ce1b1",
   "metadata": {},
   "outputs": [
    {
     "data": {
      "text/plain": [
       "Index(['Country Name', 'Country Code', 'Year', 'Unemployment Rate', 'PIB p/c',\n",
       "       'Population', 'Life Expectancy', 'Gini Index',\n",
       "       'Current Health Expenditure', 'Primary Completion Rate',\n",
       "       'Prevelance of Food Insecurity', 'Ranking', 'Puntos Totales',\n",
       "       'is_top20'],\n",
       "      dtype='object')"
      ]
     },
     "execution_count": 42,
     "metadata": {},
     "output_type": "execute_result"
    }
   ],
   "source": [
    "df.columns"
   ]
  },
  {
   "cell_type": "code",
   "execution_count": 43,
   "id": "c8c8881a",
   "metadata": {},
   "outputs": [],
   "source": [
    "df = df.drop(['Prevelance of Food Insecurity', 'Gini Index'], 1)"
   ]
  },
  {
   "cell_type": "code",
   "execution_count": 44,
   "id": "227e7e1c-6b4d-458b-adeb-ad83fd8d3aa2",
   "metadata": {},
   "outputs": [],
   "source": [
    "# df = df.dropna(subset=['Prevelance of Food Insecurity'], axis=0) ####intente"
   ]
  },
  {
   "cell_type": "code",
   "execution_count": 45,
   "id": "e3844015-322b-43fd-9a69-c5aeccd3b8d5",
   "metadata": {},
   "outputs": [
    {
     "data": {
      "text/plain": [
       "(1686, 12)"
      ]
     },
     "execution_count": 45,
     "metadata": {},
     "output_type": "execute_result"
    }
   ],
   "source": [
    "df.shape"
   ]
  },
  {
   "cell_type": "code",
   "execution_count": 46,
   "id": "e8205913",
   "metadata": {},
   "outputs": [],
   "source": [
    "df = pd.concat([df, pd.get_dummies(df['Country Name'])], 1)"
   ]
  },
  {
   "cell_type": "code",
   "execution_count": 47,
   "id": "307e2bd9",
   "metadata": {},
   "outputs": [
    {
     "data": {
      "text/html": [
       "<div>\n",
       "<style scoped>\n",
       "    .dataframe tbody tr th:only-of-type {\n",
       "        vertical-align: middle;\n",
       "    }\n",
       "\n",
       "    .dataframe tbody tr th {\n",
       "        vertical-align: top;\n",
       "    }\n",
       "\n",
       "    .dataframe thead th {\n",
       "        text-align: right;\n",
       "    }\n",
       "</style>\n",
       "<table border=\"1\" class=\"dataframe\">\n",
       "  <thead>\n",
       "    <tr style=\"text-align: right;\">\n",
       "      <th></th>\n",
       "      <th>Year</th>\n",
       "      <th>Unemployment Rate</th>\n",
       "      <th>PIB p/c</th>\n",
       "      <th>Population</th>\n",
       "      <th>Life Expectancy</th>\n",
       "      <th>Current Health Expenditure</th>\n",
       "      <th>Primary Completion Rate</th>\n",
       "      <th>Ranking</th>\n",
       "      <th>Puntos Totales</th>\n",
       "      <th>is_top20</th>\n",
       "      <th>...</th>\n",
       "      <th>United Kingdom</th>\n",
       "      <th>United States</th>\n",
       "      <th>Uzbekistan</th>\n",
       "      <th>Vanuatu</th>\n",
       "      <th>Venezuela, RB</th>\n",
       "      <th>Vietnam</th>\n",
       "      <th>Virgin Islands (U.S.)</th>\n",
       "      <th>Yemen, Rep.</th>\n",
       "      <th>Zambia</th>\n",
       "      <th>Zimbabwe</th>\n",
       "    </tr>\n",
       "  </thead>\n",
       "  <tbody>\n",
       "    <tr>\n",
       "      <th>0</th>\n",
       "      <td>2013</td>\n",
       "      <td>NaN</td>\n",
       "      <td>651.987862</td>\n",
       "      <td>31541209</td>\n",
       "      <td>62.417</td>\n",
       "      <td>8.805941</td>\n",
       "      <td>NaN</td>\n",
       "      <td>140.0</td>\n",
       "      <td>184.00</td>\n",
       "      <td>False</td>\n",
       "      <td>...</td>\n",
       "      <td>0</td>\n",
       "      <td>0</td>\n",
       "      <td>0</td>\n",
       "      <td>0</td>\n",
       "      <td>0</td>\n",
       "      <td>0</td>\n",
       "      <td>0</td>\n",
       "      <td>0</td>\n",
       "      <td>0</td>\n",
       "      <td>0</td>\n",
       "    </tr>\n",
       "    <tr>\n",
       "      <th>1</th>\n",
       "      <td>2013</td>\n",
       "      <td>15.87</td>\n",
       "      <td>4413.062005</td>\n",
       "      <td>2895092</td>\n",
       "      <td>78.123</td>\n",
       "      <td>5.385611</td>\n",
       "      <td>89.539177</td>\n",
       "      <td>57.0</td>\n",
       "      <td>571.00</td>\n",
       "      <td>False</td>\n",
       "      <td>...</td>\n",
       "      <td>0</td>\n",
       "      <td>0</td>\n",
       "      <td>0</td>\n",
       "      <td>0</td>\n",
       "      <td>0</td>\n",
       "      <td>0</td>\n",
       "      <td>0</td>\n",
       "      <td>0</td>\n",
       "      <td>0</td>\n",
       "      <td>0</td>\n",
       "    </tr>\n",
       "    <tr>\n",
       "      <th>2</th>\n",
       "      <td>2013</td>\n",
       "      <td>9.82</td>\n",
       "      <td>5519.777576</td>\n",
       "      <td>38000626</td>\n",
       "      <td>74.615</td>\n",
       "      <td>6.035763</td>\n",
       "      <td>106.031677</td>\n",
       "      <td>26.0</td>\n",
       "      <td>800.00</td>\n",
       "      <td>False</td>\n",
       "      <td>...</td>\n",
       "      <td>0</td>\n",
       "      <td>0</td>\n",
       "      <td>0</td>\n",
       "      <td>0</td>\n",
       "      <td>0</td>\n",
       "      <td>0</td>\n",
       "      <td>0</td>\n",
       "      <td>0</td>\n",
       "      <td>0</td>\n",
       "      <td>0</td>\n",
       "    </tr>\n",
       "    <tr>\n",
       "      <th>3</th>\n",
       "      <td>2013</td>\n",
       "      <td>NaN</td>\n",
       "      <td>12038.871590</td>\n",
       "      <td>52995</td>\n",
       "      <td>NaN</td>\n",
       "      <td>NaN</td>\n",
       "      <td>NaN</td>\n",
       "      <td>196.0</td>\n",
       "      <td>18.00</td>\n",
       "      <td>False</td>\n",
       "      <td>...</td>\n",
       "      <td>0</td>\n",
       "      <td>0</td>\n",
       "      <td>0</td>\n",
       "      <td>0</td>\n",
       "      <td>0</td>\n",
       "      <td>0</td>\n",
       "      <td>0</td>\n",
       "      <td>0</td>\n",
       "      <td>0</td>\n",
       "      <td>0</td>\n",
       "    </tr>\n",
       "    <tr>\n",
       "      <th>4</th>\n",
       "      <td>2013</td>\n",
       "      <td>NaN</td>\n",
       "      <td>44750.435680</td>\n",
       "      <td>71367</td>\n",
       "      <td>NaN</td>\n",
       "      <td>6.155028</td>\n",
       "      <td>NaN</td>\n",
       "      <td>198.0</td>\n",
       "      <td>17.00</td>\n",
       "      <td>False</td>\n",
       "      <td>...</td>\n",
       "      <td>0</td>\n",
       "      <td>0</td>\n",
       "      <td>0</td>\n",
       "      <td>0</td>\n",
       "      <td>0</td>\n",
       "      <td>0</td>\n",
       "      <td>0</td>\n",
       "      <td>0</td>\n",
       "      <td>0</td>\n",
       "      <td>0</td>\n",
       "    </tr>\n",
       "    <tr>\n",
       "      <th>...</th>\n",
       "      <td>...</td>\n",
       "      <td>...</td>\n",
       "      <td>...</td>\n",
       "      <td>...</td>\n",
       "      <td>...</td>\n",
       "      <td>...</td>\n",
       "      <td>...</td>\n",
       "      <td>...</td>\n",
       "      <td>...</td>\n",
       "      <td>...</td>\n",
       "      <td>...</td>\n",
       "      <td>...</td>\n",
       "      <td>...</td>\n",
       "      <td>...</td>\n",
       "      <td>...</td>\n",
       "      <td>...</td>\n",
       "      <td>...</td>\n",
       "      <td>...</td>\n",
       "      <td>...</td>\n",
       "      <td>...</td>\n",
       "      <td>...</td>\n",
       "    </tr>\n",
       "    <tr>\n",
       "      <th>1696</th>\n",
       "      <td>2021</td>\n",
       "      <td>2.38</td>\n",
       "      <td>3756.489121</td>\n",
       "      <td>97468029</td>\n",
       "      <td>NaN</td>\n",
       "      <td>NaN</td>\n",
       "      <td>NaN</td>\n",
       "      <td>98.0</td>\n",
       "      <td>1212.54</td>\n",
       "      <td>False</td>\n",
       "      <td>...</td>\n",
       "      <td>0</td>\n",
       "      <td>0</td>\n",
       "      <td>0</td>\n",
       "      <td>0</td>\n",
       "      <td>0</td>\n",
       "      <td>1</td>\n",
       "      <td>0</td>\n",
       "      <td>0</td>\n",
       "      <td>0</td>\n",
       "      <td>0</td>\n",
       "    </tr>\n",
       "    <tr>\n",
       "      <th>1697</th>\n",
       "      <td>2021</td>\n",
       "      <td>NaN</td>\n",
       "      <td>NaN</td>\n",
       "      <td>105870</td>\n",
       "      <td>NaN</td>\n",
       "      <td>NaN</td>\n",
       "      <td>NaN</td>\n",
       "      <td>207.0</td>\n",
       "      <td>816.13</td>\n",
       "      <td>False</td>\n",
       "      <td>...</td>\n",
       "      <td>0</td>\n",
       "      <td>0</td>\n",
       "      <td>0</td>\n",
       "      <td>0</td>\n",
       "      <td>0</td>\n",
       "      <td>0</td>\n",
       "      <td>1</td>\n",
       "      <td>0</td>\n",
       "      <td>0</td>\n",
       "      <td>0</td>\n",
       "    </tr>\n",
       "    <tr>\n",
       "      <th>1698</th>\n",
       "      <td>2021</td>\n",
       "      <td>NaN</td>\n",
       "      <td>NaN</td>\n",
       "      <td>32981641</td>\n",
       "      <td>NaN</td>\n",
       "      <td>NaN</td>\n",
       "      <td>NaN</td>\n",
       "      <td>151.0</td>\n",
       "      <td>1046.26</td>\n",
       "      <td>False</td>\n",
       "      <td>...</td>\n",
       "      <td>0</td>\n",
       "      <td>0</td>\n",
       "      <td>0</td>\n",
       "      <td>0</td>\n",
       "      <td>0</td>\n",
       "      <td>0</td>\n",
       "      <td>0</td>\n",
       "      <td>1</td>\n",
       "      <td>0</td>\n",
       "      <td>0</td>\n",
       "    </tr>\n",
       "    <tr>\n",
       "      <th>1699</th>\n",
       "      <td>2021</td>\n",
       "      <td>5.20</td>\n",
       "      <td>1137.343633</td>\n",
       "      <td>19473125</td>\n",
       "      <td>NaN</td>\n",
       "      <td>NaN</td>\n",
       "      <td>NaN</td>\n",
       "      <td>88.0</td>\n",
       "      <td>1264.64</td>\n",
       "      <td>False</td>\n",
       "      <td>...</td>\n",
       "      <td>0</td>\n",
       "      <td>0</td>\n",
       "      <td>0</td>\n",
       "      <td>0</td>\n",
       "      <td>0</td>\n",
       "      <td>0</td>\n",
       "      <td>0</td>\n",
       "      <td>0</td>\n",
       "      <td>1</td>\n",
       "      <td>0</td>\n",
       "    </tr>\n",
       "    <tr>\n",
       "      <th>1700</th>\n",
       "      <td>2021</td>\n",
       "      <td>NaN</td>\n",
       "      <td>1773.920411</td>\n",
       "      <td>15993524</td>\n",
       "      <td>NaN</td>\n",
       "      <td>NaN</td>\n",
       "      <td>84.818619</td>\n",
       "      <td>121.0</td>\n",
       "      <td>1138.44</td>\n",
       "      <td>False</td>\n",
       "      <td>...</td>\n",
       "      <td>0</td>\n",
       "      <td>0</td>\n",
       "      <td>0</td>\n",
       "      <td>0</td>\n",
       "      <td>0</td>\n",
       "      <td>0</td>\n",
       "      <td>0</td>\n",
       "      <td>0</td>\n",
       "      <td>0</td>\n",
       "      <td>1</td>\n",
       "    </tr>\n",
       "  </tbody>\n",
       "</table>\n",
       "<p>1686 rows × 199 columns</p>\n",
       "</div>"
      ],
      "text/plain": [
       "      Year  Unemployment Rate       PIB p/c  Population  Life Expectancy  \\\n",
       "0     2013                NaN    651.987862    31541209           62.417   \n",
       "1     2013              15.87   4413.062005     2895092           78.123   \n",
       "2     2013               9.82   5519.777576    38000626           74.615   \n",
       "3     2013                NaN  12038.871590       52995              NaN   \n",
       "4     2013                NaN  44750.435680       71367              NaN   \n",
       "...    ...                ...           ...         ...              ...   \n",
       "1696  2021               2.38   3756.489121    97468029              NaN   \n",
       "1697  2021                NaN           NaN      105870              NaN   \n",
       "1698  2021                NaN           NaN    32981641              NaN   \n",
       "1699  2021               5.20   1137.343633    19473125              NaN   \n",
       "1700  2021                NaN   1773.920411    15993524              NaN   \n",
       "\n",
       "      Current Health Expenditure  Primary Completion Rate  Ranking  \\\n",
       "0                       8.805941                      NaN    140.0   \n",
       "1                       5.385611                89.539177     57.0   \n",
       "2                       6.035763               106.031677     26.0   \n",
       "3                            NaN                      NaN    196.0   \n",
       "4                       6.155028                      NaN    198.0   \n",
       "...                          ...                      ...      ...   \n",
       "1696                         NaN                      NaN     98.0   \n",
       "1697                         NaN                      NaN    207.0   \n",
       "1698                         NaN                      NaN    151.0   \n",
       "1699                         NaN                      NaN     88.0   \n",
       "1700                         NaN                84.818619    121.0   \n",
       "\n",
       "      Puntos Totales  is_top20  ...  United Kingdom  United States  \\\n",
       "0             184.00     False  ...               0              0   \n",
       "1             571.00     False  ...               0              0   \n",
       "2             800.00     False  ...               0              0   \n",
       "3              18.00     False  ...               0              0   \n",
       "4              17.00     False  ...               0              0   \n",
       "...              ...       ...  ...             ...            ...   \n",
       "1696         1212.54     False  ...               0              0   \n",
       "1697          816.13     False  ...               0              0   \n",
       "1698         1046.26     False  ...               0              0   \n",
       "1699         1264.64     False  ...               0              0   \n",
       "1700         1138.44     False  ...               0              0   \n",
       "\n",
       "      Uzbekistan  Vanuatu  Venezuela, RB  Vietnam  Virgin Islands (U.S.)  \\\n",
       "0              0        0              0        0                      0   \n",
       "1              0        0              0        0                      0   \n",
       "2              0        0              0        0                      0   \n",
       "3              0        0              0        0                      0   \n",
       "4              0        0              0        0                      0   \n",
       "...          ...      ...            ...      ...                    ...   \n",
       "1696           0        0              0        1                      0   \n",
       "1697           0        0              0        0                      1   \n",
       "1698           0        0              0        0                      0   \n",
       "1699           0        0              0        0                      0   \n",
       "1700           0        0              0        0                      0   \n",
       "\n",
       "      Yemen, Rep.  Zambia  Zimbabwe  \n",
       "0               0       0         0  \n",
       "1               0       0         0  \n",
       "2               0       0         0  \n",
       "3               0       0         0  \n",
       "4               0       0         0  \n",
       "...           ...     ...       ...  \n",
       "1696            0       0         0  \n",
       "1697            0       0         0  \n",
       "1698            1       0         0  \n",
       "1699            0       1         0  \n",
       "1700            0       0         1  \n",
       "\n",
       "[1686 rows x 199 columns]"
      ]
     },
     "execution_count": 47,
     "metadata": {},
     "output_type": "execute_result"
    }
   ],
   "source": [
    "aux = df.copy()\n",
    "aux = aux.drop(['Country Name', 'Country Code'], 1)\n",
    "aux"
   ]
  },
  {
   "cell_type": "code",
   "execution_count": 48,
   "id": "45ac265f-bb1f-4fbd-86e5-29bdb1a06c2d",
   "metadata": {},
   "outputs": [],
   "source": [
    "imputer = SimpleImputer(missing_values=np.nan, strategy='median')"
   ]
  },
  {
   "cell_type": "code",
   "execution_count": 49,
   "id": "4fe498a1-86e9-4ed5-bfa6-5dcf9e322d12",
   "metadata": {},
   "outputs": [],
   "source": [
    "aux = imputer.fit_transform(aux)"
   ]
  },
  {
   "cell_type": "code",
   "execution_count": 50,
   "id": "288fb91b-3bf0-4226-9edb-927fd1166829",
   "metadata": {},
   "outputs": [],
   "source": [
    "df.iloc[:, 2:] = aux"
   ]
  },
  {
   "cell_type": "code",
   "execution_count": 51,
   "id": "ea373fb6",
   "metadata": {},
   "outputs": [
    {
     "data": {
      "text/html": [
       "<div>\n",
       "<style scoped>\n",
       "    .dataframe tbody tr th:only-of-type {\n",
       "        vertical-align: middle;\n",
       "    }\n",
       "\n",
       "    .dataframe tbody tr th {\n",
       "        vertical-align: top;\n",
       "    }\n",
       "\n",
       "    .dataframe thead th {\n",
       "        text-align: right;\n",
       "    }\n",
       "</style>\n",
       "<table border=\"1\" class=\"dataframe\">\n",
       "  <thead>\n",
       "    <tr style=\"text-align: right;\">\n",
       "      <th></th>\n",
       "      <th>Country Name</th>\n",
       "      <th>Country Code</th>\n",
       "      <th>Year</th>\n",
       "      <th>Unemployment Rate</th>\n",
       "      <th>PIB p/c</th>\n",
       "      <th>Population</th>\n",
       "      <th>Life Expectancy</th>\n",
       "      <th>Current Health Expenditure</th>\n",
       "      <th>Primary Completion Rate</th>\n",
       "      <th>Ranking</th>\n",
       "      <th>Puntos Totales</th>\n",
       "      <th>is_top20</th>\n",
       "    </tr>\n",
       "  </thead>\n",
       "  <tbody>\n",
       "    <tr>\n",
       "      <th>0</th>\n",
       "      <td>Afghanistan</td>\n",
       "      <td>AFG</td>\n",
       "      <td>2013.0</td>\n",
       "      <td>6.02</td>\n",
       "      <td>651.987862</td>\n",
       "      <td>31541209.0</td>\n",
       "      <td>62.417</td>\n",
       "      <td>8.805941</td>\n",
       "      <td>97.328339</td>\n",
       "      <td>140.0</td>\n",
       "      <td>184.0</td>\n",
       "      <td>0.0</td>\n",
       "    </tr>\n",
       "    <tr>\n",
       "      <th>1</th>\n",
       "      <td>Albania</td>\n",
       "      <td>ALB</td>\n",
       "      <td>2013.0</td>\n",
       "      <td>15.87</td>\n",
       "      <td>4413.062005</td>\n",
       "      <td>2895092.0</td>\n",
       "      <td>78.123</td>\n",
       "      <td>5.385611</td>\n",
       "      <td>89.539177</td>\n",
       "      <td>57.0</td>\n",
       "      <td>571.0</td>\n",
       "      <td>0.0</td>\n",
       "    </tr>\n",
       "  </tbody>\n",
       "</table>\n",
       "</div>"
      ],
      "text/plain": [
       "  Country Name Country Code    Year  Unemployment Rate      PIB p/c  \\\n",
       "0  Afghanistan          AFG  2013.0               6.02   651.987862   \n",
       "1      Albania          ALB  2013.0              15.87  4413.062005   \n",
       "\n",
       "   Population  Life Expectancy  Current Health Expenditure  \\\n",
       "0  31541209.0           62.417                    8.805941   \n",
       "1   2895092.0           78.123                    5.385611   \n",
       "\n",
       "   Primary Completion Rate  Ranking  Puntos Totales  is_top20  \n",
       "0                97.328339    140.0           184.0       0.0  \n",
       "1                89.539177     57.0           571.0       0.0  "
      ]
     },
     "execution_count": 51,
     "metadata": {},
     "output_type": "execute_result"
    }
   ],
   "source": [
    "df = df.iloc[:, :12]\n",
    "df.head(2)"
   ]
  },
  {
   "cell_type": "markdown",
   "id": "5e554223-b70e-4fba-8126-5440bc3e2f18",
   "metadata": {},
   "source": [
    "### Missing Data"
   ]
  },
  {
   "cell_type": "code",
   "execution_count": 55,
   "id": "8aea5d3b-bd7c-4fe1-8761-be2857af3b82",
   "metadata": {},
   "outputs": [
    {
     "name": "stdout",
     "output_type": "stream",
     "text": [
      "<class 'pandas.core.frame.DataFrame'>\n",
      "Int64Index: 1686 entries, 0 to 1700\n",
      "Data columns (total 12 columns):\n",
      " #   Column                      Non-Null Count  Dtype  \n",
      "---  ------                      --------------  -----  \n",
      " 0   Country Name                1686 non-null   object \n",
      " 1   Country Code                1686 non-null   object \n",
      " 2   Year                        1686 non-null   float64\n",
      " 3   Unemployment Rate           1686 non-null   float64\n",
      " 4   PIB p/c                     1686 non-null   float64\n",
      " 5   Population                  1686 non-null   float64\n",
      " 6   Life Expectancy             1686 non-null   float64\n",
      " 7   Current Health Expenditure  1686 non-null   float64\n",
      " 8   Primary Completion Rate     1686 non-null   float64\n",
      " 9   Ranking                     1686 non-null   float64\n",
      " 10  Puntos Totales              1686 non-null   float64\n",
      " 11  is_top20                    1686 non-null   float64\n",
      "dtypes: float64(10), object(2)\n",
      "memory usage: 171.2+ KB\n"
     ]
    }
   ],
   "source": [
    "df.info()"
   ]
  },
  {
   "cell_type": "code",
   "execution_count": 57,
   "id": "10fbbc43-1451-40ef-bbca-b481a71b7026",
   "metadata": {},
   "outputs": [
    {
     "data": {
      "text/plain": [
       "Country Name                  0.0\n",
       "Country Code                  0.0\n",
       "Year                          0.0\n",
       "Unemployment Rate             0.0\n",
       "PIB p/c                       0.0\n",
       "Population                    0.0\n",
       "Life Expectancy               0.0\n",
       "Current Health Expenditure    0.0\n",
       "Primary Completion Rate       0.0\n",
       "Ranking                       0.0\n",
       "Puntos Totales                0.0\n",
       "is_top20                      0.0\n",
       "dtype: float64"
      ]
     },
     "execution_count": 57,
     "metadata": {},
     "output_type": "execute_result"
    }
   ],
   "source": [
    "##Nulos\n",
    "df.isna().sum() / len(df)"
   ]
  },
  {
   "cell_type": "code",
   "execution_count": 257,
   "id": "dcd70503-2631-4828-9d2b-bbf3e78d3172",
   "metadata": {},
   "outputs": [
    {
     "data": {
      "text/plain": [
       "{'train': 567, 'test': 142}"
      ]
     },
     "execution_count": 257,
     "metadata": {},
     "output_type": "execute_result"
    }
   ],
   "source": [
    "# n = {'train' : len(fifa['train']), 'test' : len(fifa['test'])}\n",
    "# n"
   ]
  },
  {
   "cell_type": "code",
   "execution_count": 58,
   "id": "dbf7012b-8c2e-42c1-b4fc-de3955192f58",
   "metadata": {},
   "outputs": [],
   "source": [
    "unique_df = {}\n",
    "\n",
    "\n",
    "unique_dict = {key_:\n",
    "                   [\n",
    "                    df[key_].nunique(),\n",
    "                    df[key_].nunique() / len(df)\n",
    "                   ]\n",
    "               for key_ in df.columns}\n",
    "\n",
    "aux = pd.DataFrame(unique_dict).transpose()\n",
    "aux.columns = ['n_unique', '%_unique']\n",
    "aux['n_unique'] = aux['n_unique'].astype(int)\n",
    "unique_df = aux"
   ]
  },
  {
   "cell_type": "code",
   "execution_count": 59,
   "id": "846b8d08-fc79-45a4-8382-88ba8d2084fb",
   "metadata": {},
   "outputs": [
    {
     "data": {
      "text/html": [
       "<div>\n",
       "<style scoped>\n",
       "    .dataframe tbody tr th:only-of-type {\n",
       "        vertical-align: middle;\n",
       "    }\n",
       "\n",
       "    .dataframe tbody tr th {\n",
       "        vertical-align: top;\n",
       "    }\n",
       "\n",
       "    .dataframe thead th {\n",
       "        text-align: right;\n",
       "    }\n",
       "</style>\n",
       "<table border=\"1\" class=\"dataframe\">\n",
       "  <thead>\n",
       "    <tr style=\"text-align: right;\">\n",
       "      <th></th>\n",
       "      <th>n_unique</th>\n",
       "      <th>%_unique</th>\n",
       "    </tr>\n",
       "  </thead>\n",
       "  <tbody>\n",
       "    <tr>\n",
       "      <th>Country Name</th>\n",
       "      <td>189</td>\n",
       "      <td>0.112100</td>\n",
       "    </tr>\n",
       "    <tr>\n",
       "      <th>Country Code</th>\n",
       "      <td>189</td>\n",
       "      <td>0.112100</td>\n",
       "    </tr>\n",
       "    <tr>\n",
       "      <th>Year</th>\n",
       "      <td>9</td>\n",
       "      <td>0.005338</td>\n",
       "    </tr>\n",
       "    <tr>\n",
       "      <th>Unemployment Rate</th>\n",
       "      <td>700</td>\n",
       "      <td>0.415184</td>\n",
       "    </tr>\n",
       "    <tr>\n",
       "      <th>PIB p/c</th>\n",
       "      <td>1641</td>\n",
       "      <td>0.973310</td>\n",
       "    </tr>\n",
       "    <tr>\n",
       "      <th>Population</th>\n",
       "      <td>1686</td>\n",
       "      <td>1.000000</td>\n",
       "    </tr>\n",
       "    <tr>\n",
       "      <th>Life Expectancy</th>\n",
       "      <td>1400</td>\n",
       "      <td>0.830368</td>\n",
       "    </tr>\n",
       "    <tr>\n",
       "      <th>Current Health Expenditure</th>\n",
       "      <td>1191</td>\n",
       "      <td>0.706406</td>\n",
       "    </tr>\n",
       "    <tr>\n",
       "      <th>Primary Completion Rate</th>\n",
       "      <td>1028</td>\n",
       "      <td>0.609727</td>\n",
       "    </tr>\n",
       "    <tr>\n",
       "      <th>Ranking</th>\n",
       "      <td>211</td>\n",
       "      <td>0.125148</td>\n",
       "    </tr>\n",
       "    <tr>\n",
       "      <th>Puntos Totales</th>\n",
       "      <td>1110</td>\n",
       "      <td>0.658363</td>\n",
       "    </tr>\n",
       "    <tr>\n",
       "      <th>is_top20</th>\n",
       "      <td>2</td>\n",
       "      <td>0.001186</td>\n",
       "    </tr>\n",
       "  </tbody>\n",
       "</table>\n",
       "</div>"
      ],
      "text/plain": [
       "                            n_unique  %_unique\n",
       "Country Name                     189  0.112100\n",
       "Country Code                     189  0.112100\n",
       "Year                               9  0.005338\n",
       "Unemployment Rate                700  0.415184\n",
       "PIB p/c                         1641  0.973310\n",
       "Population                      1686  1.000000\n",
       "Life Expectancy                 1400  0.830368\n",
       "Current Health Expenditure      1191  0.706406\n",
       "Primary Completion Rate         1028  0.609727\n",
       "Ranking                          211  0.125148\n",
       "Puntos Totales                  1110  0.658363\n",
       "is_top20                           2  0.001186"
      ]
     },
     "execution_count": 59,
     "metadata": {},
     "output_type": "execute_result"
    }
   ],
   "source": [
    "unique_df"
   ]
  },
  {
   "cell_type": "code",
   "execution_count": 62,
   "id": "c665f393-3b8d-4d62-8379-83a338fca616",
   "metadata": {},
   "outputs": [
    {
     "data": {
      "image/png": "[encoded data removed]",
      "text/plain": [
       "<Figure size 432x288 with 1 Axes>"
      ]
     },
     "metadata": {
      "needs_background": "light"
     },
     "output_type": "display_data"
    }
   ],
   "source": [
    "col = 'PIB p/c'\n",
    "df[col].hist(bins=30);"
   ]
  },
  {
   "cell_type": "markdown",
   "id": "a9ba25ce",
   "metadata": {},
   "source": [
    "# ! cambiar fifa[key] por df"
   ]
  },
  {
   "cell_type": "code",
   "execution_count": 261,
   "id": "3f1ca462-7ce4-4d7c-ad6d-80085ae25bec",
   "metadata": {},
   "outputs": [
    {
     "data": {
      "text/plain": [
       "<AxesSubplot:>"
      ]
     },
     "execution_count": 261,
     "metadata": {},
     "output_type": "execute_result"
    },
    {
     "data": {
      "image/png": "[encoded data removed]",
      "text/plain": [
       "<Figure size 432x288 with 1 Axes>"
      ]
     },
     "metadata": {
      "needs_background": "light"
     },
     "output_type": "display_data"
    }
   ],
   "source": [
    "col = 'Population'\n",
    "fifa[key][col].hist(bins=30)"
   ]
  },
  {
   "cell_type": "code",
   "execution_count": 262,
   "id": "9b6bf983-c577-4c87-8772-f5a98bab5914",
   "metadata": {},
   "outputs": [
    {
     "data": {
      "text/plain": [
       "<AxesSubplot:>"
      ]
     },
     "execution_count": 262,
     "metadata": {},
     "output_type": "execute_result"
    },
    {
     "data": {
      "image/png": "[encoded data removed]",
      "text/plain": [
       "<Figure size 432x288 with 1 Axes>"
      ]
     },
     "metadata": {
      "needs_background": "light"
     },
     "output_type": "display_data"
    }
   ],
   "source": [
    "col = 'Life Expectancy'\n",
    "fifa[key][col].hist(bins=30)"
   ]
  },
  {
   "cell_type": "code",
   "execution_count": 263,
   "id": "702e7df9-5608-4cbd-9819-ca3ba26890f8",
   "metadata": {},
   "outputs": [
    {
     "data": {
      "text/plain": [
       "<AxesSubplot:>"
      ]
     },
     "execution_count": 263,
     "metadata": {},
     "output_type": "execute_result"
    },
    {
     "data": {
      "image/png": "[encoded data removed]",
      "text/plain": [
       "<Figure size 432x288 with 1 Axes>"
      ]
     },
     "metadata": {
      "needs_background": "light"
     },
     "output_type": "display_data"
    }
   ],
   "source": [
    "col = 'Current Health Expenditure'\n",
    "fifa[key][col].hist(bins=30)"
   ]
  },
  {
   "cell_type": "code",
   "execution_count": 264,
   "id": "3fbde70d-2177-4b5a-9629-d3f6d5d725ca",
   "metadata": {},
   "outputs": [
    {
     "data": {
      "text/plain": [
       "<AxesSubplot:>"
      ]
     },
     "execution_count": 264,
     "metadata": {},
     "output_type": "execute_result"
    },
    {
     "data": {
      "image/png": "[encoded data removed]",
      "text/plain": [
       "<Figure size 432x288 with 1 Axes>"
      ]
     },
     "metadata": {
      "needs_background": "light"
     },
     "output_type": "display_data"
    }
   ],
   "source": [
    "col = 'Primary Completion Rate'\n",
    "fifa[key][col].hist(bins=30)"
   ]
  },
  {
   "cell_type": "code",
   "execution_count": 265,
   "id": "3c312d21-4d45-43aa-b0ad-c6c311c2070a",
   "metadata": {},
   "outputs": [
    {
     "data": {
      "text/plain": [
       "<AxesSubplot:>"
      ]
     },
     "execution_count": 265,
     "metadata": {},
     "output_type": "execute_result"
    },
    {
     "data": {
      "image/png": "[encoded data removed]",
      "text/plain": [
       "<Figure size 432x288 with 1 Axes>"
      ]
     },
     "metadata": {
      "needs_background": "light"
     },
     "output_type": "display_data"
    }
   ],
   "source": [
    "col = 'Prevelance of Food Insecurity'\n",
    "fifa[key][col].hist(bins=30)"
   ]
  },
  {
   "cell_type": "code",
   "execution_count": 50,
   "id": "49bb01c8-7e6b-4efe-8975-3028c9e6b094",
   "metadata": {},
   "outputs": [],
   "source": [
    "mean_target = fifa[key]['Ranking'].mode()"
   ]
  },
  {
   "cell_type": "code",
   "execution_count": 51,
   "id": "15b9f314-315f-4f30-84f6-e3193e65d3ab",
   "metadata": {},
   "outputs": [
    {
     "ename": "ValueError",
     "evalue": "The truth value of a Series is ambiguous. Use a.empty, a.bool(), a.item(), a.any() or a.all().",
     "output_type": "error",
     "traceback": [
      "\u001b[0;31m---------------------------------------------------------------------------\u001b[0m",
      "\u001b[0;31mValueError\u001b[0m                                Traceback (most recent call last)",
      "Input \u001b[0;32mIn [51]\u001b[0m, in \u001b[0;36m<cell line: 8>\u001b[0;34m()\u001b[0m\n\u001b[1;32m      6\u001b[0m fig, ax \u001b[38;5;241m=\u001b[39m plt\u001b[38;5;241m.\u001b[39msubplots(figsize\u001b[38;5;241m=\u001b[39m(\u001b[38;5;241m12\u001b[39m, \u001b[38;5;241m8\u001b[39m))\n\u001b[1;32m      7\u001b[0m ax\u001b[38;5;241m.\u001b[39mbarh(agg\u001b[38;5;241m.\u001b[39mindex, agg[\u001b[38;5;124m'\u001b[39m\u001b[38;5;124mmean\u001b[39m\u001b[38;5;124m'\u001b[39m], xerr\u001b[38;5;241m=\u001b[39magg[\u001b[38;5;124m'\u001b[39m\u001b[38;5;124mstd\u001b[39m\u001b[38;5;124m'\u001b[39m] \u001b[38;5;241m/\u001b[39m np\u001b[38;5;241m.\u001b[39msqrt(agg[\u001b[38;5;124m'\u001b[39m\u001b[38;5;124mcount\u001b[39m\u001b[38;5;124m'\u001b[39m]))\n\u001b[0;32m----> 8\u001b[0m \u001b[43max\u001b[49m\u001b[38;5;241;43m.\u001b[39;49m\u001b[43maxvline\u001b[49m\u001b[43m(\u001b[49m\u001b[43mmean_target\u001b[49m\u001b[43m,\u001b[49m\u001b[43m \u001b[49m\u001b[43mcolor\u001b[49m\u001b[38;5;241;43m=\u001b[39;49m\u001b[38;5;124;43m'\u001b[39;49m\u001b[38;5;124;43mblack\u001b[39;49m\u001b[38;5;124;43m'\u001b[39;49m\u001b[43m,\u001b[49m\u001b[43m \u001b[49m\u001b[43mlinestyle\u001b[49m\u001b[38;5;241;43m=\u001b[39;49m\u001b[38;5;124;43m'\u001b[39;49m\u001b[38;5;124;43m--\u001b[39;49m\u001b[38;5;124;43m'\u001b[39;49m\u001b[43m)\u001b[49m\n",
      "File \u001b[0;32m~/opt/anaconda3/lib/python3.9/site-packages/matplotlib/axes/_axes.py:801\u001b[0m, in \u001b[0;36mAxes.axvline\u001b[0;34m(self, x, ymin, ymax, **kwargs)\u001b[0m\n\u001b[1;32m    799\u001b[0m \u001b[38;5;66;03m# Strip away the units for comparison with non-unitized bounds.\u001b[39;00m\n\u001b[1;32m    800\u001b[0m xx, \u001b[38;5;241m=\u001b[39m \u001b[38;5;28mself\u001b[39m\u001b[38;5;241m.\u001b[39m_process_unit_info([(\u001b[38;5;124m\"\u001b[39m\u001b[38;5;124mx\u001b[39m\u001b[38;5;124m\"\u001b[39m, x)], kwargs)\n\u001b[0;32m--> 801\u001b[0m scalex \u001b[38;5;241m=\u001b[39m (xx \u001b[38;5;241m<\u001b[39m xmin) \u001b[38;5;129;01mor\u001b[39;00m (xx \u001b[38;5;241m>\u001b[39m xmax)\n\u001b[1;32m    803\u001b[0m trans \u001b[38;5;241m=\u001b[39m \u001b[38;5;28mself\u001b[39m\u001b[38;5;241m.\u001b[39mget_xaxis_transform(which\u001b[38;5;241m=\u001b[39m\u001b[38;5;124m'\u001b[39m\u001b[38;5;124mgrid\u001b[39m\u001b[38;5;124m'\u001b[39m)\n\u001b[1;32m    804\u001b[0m l \u001b[38;5;241m=\u001b[39m mlines\u001b[38;5;241m.\u001b[39mLine2D([x, x], [ymin, ymax], transform\u001b[38;5;241m=\u001b[39mtrans, \u001b[38;5;241m*\u001b[39m\u001b[38;5;241m*\u001b[39mkwargs)\n",
      "File \u001b[0;32m~/opt/anaconda3/lib/python3.9/site-packages/pandas/core/generic.py:1527\u001b[0m, in \u001b[0;36mNDFrame.__nonzero__\u001b[0;34m(self)\u001b[0m\n\u001b[1;32m   1525\u001b[0m \u001b[38;5;129m@final\u001b[39m\n\u001b[1;32m   1526\u001b[0m \u001b[38;5;28;01mdef\u001b[39;00m \u001b[38;5;21m__nonzero__\u001b[39m(\u001b[38;5;28mself\u001b[39m):\n\u001b[0;32m-> 1527\u001b[0m     \u001b[38;5;28;01mraise\u001b[39;00m \u001b[38;5;167;01mValueError\u001b[39;00m(\n\u001b[1;32m   1528\u001b[0m         \u001b[38;5;124mf\u001b[39m\u001b[38;5;124m\"\u001b[39m\u001b[38;5;124mThe truth value of a \u001b[39m\u001b[38;5;132;01m{\u001b[39;00m\u001b[38;5;28mtype\u001b[39m(\u001b[38;5;28mself\u001b[39m)\u001b[38;5;241m.\u001b[39m\u001b[38;5;18m__name__\u001b[39m\u001b[38;5;132;01m}\u001b[39;00m\u001b[38;5;124m is ambiguous. \u001b[39m\u001b[38;5;124m\"\u001b[39m\n\u001b[1;32m   1529\u001b[0m         \u001b[38;5;124m\"\u001b[39m\u001b[38;5;124mUse a.empty, a.bool(), a.item(), a.any() or a.all().\u001b[39m\u001b[38;5;124m\"\u001b[39m\n\u001b[1;32m   1530\u001b[0m     )\n",
      "\u001b[0;31mValueError\u001b[0m: The truth value of a Series is ambiguous. Use a.empty, a.bool(), a.item(), a.any() or a.all()."
     ]
    },
    {
     "data": {
      "image/png": "[encoded data removed]",
      "text/plain": [
       "<Figure size 864x576 with 1 Axes>"
      ]
     },
     "metadata": {
      "needs_background": "light"
     },
     "output_type": "display_data"
    }
   ],
   "source": [
    "col = 'Year'\n",
    "\n",
    "agg = fifa[key].groupby(col)['Ranking'].agg(['mean', 'std', 'count'])\n",
    "agg = agg.sort_values(by='mean')\n",
    "\n",
    "fig, ax = plt.subplots(figsize=(12, 8))\n",
    "ax.barh(agg.index, agg['mean'], xerr=agg['std'] / np.sqrt(agg['count']))\n",
    "ax.axvline(mean_target, color='black', linestyle='--')"
   ]
  },
  {
   "cell_type": "code",
   "execution_count": 52,
   "id": "381af1ee-0351-4286-a0db-946a57244f79",
   "metadata": {},
   "outputs": [],
   "source": [
    "mean_puntos = fifa[key]['Puntos Totales'].mean()"
   ]
  },
  {
   "cell_type": "code",
   "execution_count": 53,
   "id": "d78324eb-b23c-4007-8d03-49d04cd064fd",
   "metadata": {},
   "outputs": [
    {
     "ename": "ValueError",
     "evalue": "The truth value of a Series is ambiguous. Use a.empty, a.bool(), a.item(), a.any() or a.all().",
     "output_type": "error",
     "traceback": [
      "\u001b[0;31m---------------------------------------------------------------------------\u001b[0m",
      "\u001b[0;31mValueError\u001b[0m                                Traceback (most recent call last)",
      "Input \u001b[0;32mIn [53]\u001b[0m, in \u001b[0;36m<cell line: 8>\u001b[0;34m()\u001b[0m\n\u001b[1;32m      6\u001b[0m fig, ax \u001b[38;5;241m=\u001b[39m plt\u001b[38;5;241m.\u001b[39msubplots(figsize\u001b[38;5;241m=\u001b[39m(\u001b[38;5;241m12\u001b[39m, \u001b[38;5;241m8\u001b[39m))\n\u001b[1;32m      7\u001b[0m ax\u001b[38;5;241m.\u001b[39mbarh(agg\u001b[38;5;241m.\u001b[39mindex, agg[\u001b[38;5;124m'\u001b[39m\u001b[38;5;124mmean\u001b[39m\u001b[38;5;124m'\u001b[39m], height\u001b[38;5;241m=\u001b[39m\u001b[38;5;241m5\u001b[39m)\n\u001b[0;32m----> 8\u001b[0m \u001b[43max\u001b[49m\u001b[38;5;241;43m.\u001b[39;49m\u001b[43maxvline\u001b[49m\u001b[43m(\u001b[49m\u001b[43mmean_target\u001b[49m\u001b[43m,\u001b[49m\u001b[43m \u001b[49m\u001b[43mcolor\u001b[49m\u001b[38;5;241;43m=\u001b[39;49m\u001b[38;5;124;43m'\u001b[39;49m\u001b[38;5;124;43mblack\u001b[39;49m\u001b[38;5;124;43m'\u001b[39;49m\u001b[43m,\u001b[49m\u001b[43m \u001b[49m\u001b[43mlinestyle\u001b[49m\u001b[38;5;241;43m=\u001b[39;49m\u001b[38;5;124;43m'\u001b[39;49m\u001b[38;5;124;43m--\u001b[39;49m\u001b[38;5;124;43m'\u001b[39;49m\u001b[43m)\u001b[49m\n\u001b[1;32m      9\u001b[0m ax\u001b[38;5;241m.\u001b[39maxvline(mean_puntos, color\u001b[38;5;241m=\u001b[39m\u001b[38;5;124m'\u001b[39m\u001b[38;5;124mred\u001b[39m\u001b[38;5;124m'\u001b[39m, linestyle\u001b[38;5;241m=\u001b[39m\u001b[38;5;124m'\u001b[39m\u001b[38;5;124m--\u001b[39m\u001b[38;5;124m'\u001b[39m)\n",
      "File \u001b[0;32m~/opt/anaconda3/lib/python3.9/site-packages/matplotlib/axes/_axes.py:801\u001b[0m, in \u001b[0;36mAxes.axvline\u001b[0;34m(self, x, ymin, ymax, **kwargs)\u001b[0m\n\u001b[1;32m    799\u001b[0m \u001b[38;5;66;03m# Strip away the units for comparison with non-unitized bounds.\u001b[39;00m\n\u001b[1;32m    800\u001b[0m xx, \u001b[38;5;241m=\u001b[39m \u001b[38;5;28mself\u001b[39m\u001b[38;5;241m.\u001b[39m_process_unit_info([(\u001b[38;5;124m\"\u001b[39m\u001b[38;5;124mx\u001b[39m\u001b[38;5;124m\"\u001b[39m, x)], kwargs)\n\u001b[0;32m--> 801\u001b[0m scalex \u001b[38;5;241m=\u001b[39m (xx \u001b[38;5;241m<\u001b[39m xmin) \u001b[38;5;129;01mor\u001b[39;00m (xx \u001b[38;5;241m>\u001b[39m xmax)\n\u001b[1;32m    803\u001b[0m trans \u001b[38;5;241m=\u001b[39m \u001b[38;5;28mself\u001b[39m\u001b[38;5;241m.\u001b[39mget_xaxis_transform(which\u001b[38;5;241m=\u001b[39m\u001b[38;5;124m'\u001b[39m\u001b[38;5;124mgrid\u001b[39m\u001b[38;5;124m'\u001b[39m)\n\u001b[1;32m    804\u001b[0m l \u001b[38;5;241m=\u001b[39m mlines\u001b[38;5;241m.\u001b[39mLine2D([x, x], [ymin, ymax], transform\u001b[38;5;241m=\u001b[39mtrans, \u001b[38;5;241m*\u001b[39m\u001b[38;5;241m*\u001b[39mkwargs)\n",
      "File \u001b[0;32m~/opt/anaconda3/lib/python3.9/site-packages/pandas/core/generic.py:1527\u001b[0m, in \u001b[0;36mNDFrame.__nonzero__\u001b[0;34m(self)\u001b[0m\n\u001b[1;32m   1525\u001b[0m \u001b[38;5;129m@final\u001b[39m\n\u001b[1;32m   1526\u001b[0m \u001b[38;5;28;01mdef\u001b[39;00m \u001b[38;5;21m__nonzero__\u001b[39m(\u001b[38;5;28mself\u001b[39m):\n\u001b[0;32m-> 1527\u001b[0m     \u001b[38;5;28;01mraise\u001b[39;00m \u001b[38;5;167;01mValueError\u001b[39;00m(\n\u001b[1;32m   1528\u001b[0m         \u001b[38;5;124mf\u001b[39m\u001b[38;5;124m\"\u001b[39m\u001b[38;5;124mThe truth value of a \u001b[39m\u001b[38;5;132;01m{\u001b[39;00m\u001b[38;5;28mtype\u001b[39m(\u001b[38;5;28mself\u001b[39m)\u001b[38;5;241m.\u001b[39m\u001b[38;5;18m__name__\u001b[39m\u001b[38;5;132;01m}\u001b[39;00m\u001b[38;5;124m is ambiguous. \u001b[39m\u001b[38;5;124m\"\u001b[39m\n\u001b[1;32m   1529\u001b[0m         \u001b[38;5;124m\"\u001b[39m\u001b[38;5;124mUse a.empty, a.bool(), a.item(), a.any() or a.all().\u001b[39m\u001b[38;5;124m\"\u001b[39m\n\u001b[1;32m   1530\u001b[0m     )\n",
      "\u001b[0;31mValueError\u001b[0m: The truth value of a Series is ambiguous. Use a.empty, a.bool(), a.item(), a.any() or a.all()."
     ]
    },
    {
     "data": {
      "image/png": "[encoded data removed]",
      "text/plain": [
       "<Figure size 864x576 with 1 Axes>"
      ]
     },
     "metadata": {
      "needs_background": "light"
     },
     "output_type": "display_data"
    }
   ],
   "source": [
    "col = 'Ranking'\n",
    "\n",
    "agg = fifa[key].groupby(col)['Puntos Totales'].agg(['mean', 'std', 'count'])\n",
    "agg = agg.sort_values(by='mean')\n",
    "\n",
    "fig, ax = plt.subplots(figsize=(12, 8))\n",
    "ax.barh(agg.index, agg['mean'], height=5)\n",
    "ax.axvline(mean_target, color='black', linestyle='--')\n",
    "ax.axvline(mean_puntos, color='red', linestyle='--')"
   ]
  },
  {
   "cell_type": "code",
   "execution_count": null,
   "id": "c773bb89-330f-4e92-a093-e89d40aba362",
   "metadata": {},
   "outputs": [],
   "source": [
    "# sns.pairplot(df, hue = 'Ranking')"
   ]
  },
  {
   "cell_type": "code",
   "execution_count": 282,
   "id": "832ccf7e-05c0-4d3a-a3df-3c2527e816ca",
   "metadata": {},
   "outputs": [],
   "source": [
    "#     ## Random Forest Regressor\n",
    "#     \n",
    "#     X_train, X_test, y_train, y_test = train_test_split(df.drop('Ranking', 1), df['Ranking'],\n",
    "#                                                         test_size=0.2, random_state=42)\n",
    "#     \n",
    "#     numerical = ['Unemployment Rate', 'PIB p/c',\n",
    "#                 'Population', 'Life Expectancy',\n",
    "#                 'Current Health Expenditure', 'Primary Completion Rate',\n",
    "#                 'Prevelance of Food Insecurity'] \n",
    "#     #dropped gini\n",
    "#     \n",
    "#     categorical = ['Country Name', 'Country Code', 'Year'] \n",
    "#     \n",
    "#     standard_scaler = StandardScaler()\n",
    "#     \n",
    "#     ohe = OneHotEncoder(handle_unknown=\"ignore\") \n",
    "#     preprocesador = ColumnTransformer(\n",
    "#         transformers=[\n",
    "#             (\"num\", standard_scaler, numerical),\n",
    "#             (\"cat\", ohe, categorical),\n",
    "#         ]\n",
    "#     )\n",
    "#     \n",
    "#     from sklearn.ensemble import RandomForestRegressor\n",
    "#     \n",
    "#     rf = RandomForestRegressor(random_state=42)\n",
    "#     parametros = {\n",
    "#                   'model__n_estimators': np.arange(500,1000,50),\n",
    "#                   'model__max_depth': [3,5,7,10,None]\n",
    "#                  }\n",
    "#     \n",
    "#     pipe = Pipeline(steps=[(\"pre\", preprocesador), (\"model\", rf)])\n",
    "#     \n",
    "#     grid = RandomizedSearchCV(pipe, parametros, n_jobs=-1)\n",
    "#     \n",
    "#     #grid = GridSearchCV(pipe, parametros, n_jobs=2)\n",
    "#     \n",
    "#     grid.fit(X_train, y_train)\n",
    "#     print('Modelo entrenado.')\n",
    "#     \n",
    "#     grid.best_params_\n",
    "#     \n",
    "#     y_pred = grid.best_estimator_.predict(X_train)\n",
    "#     y_pred = pd.Series(y_pred, name='Pred')\n",
    "#     y_true = np.array(y_train)\n",
    "#     y_true = pd.Series(y_true, name='True')\n",
    "#     \n",
    "#     fig, ax = plt.subplots()\n",
    "#     ax.scatter(y_true, y_pred)\n",
    "#     ax.set_xlabel('True Ranking')\n",
    "#     ax.set_ylabel('Predicted Ranking')\n",
    "#     ax.plot([y_true.min(), y_true.max()], [y_true.min(), y_true.max()], color='black', linestyle='--')\n",
    "#     \n",
    "#     y_pred = grid.best_estimator_.predict(X_test)\n",
    "#     y_pred = pd.Series(y_pred, name='Pred')\n",
    "#     y_true = np.array(y_test)\n",
    "#     y_true = pd.Series(y_true, name='True')\n",
    "#     \n",
    "#     fig, ax = plt.subplots()\n",
    "#     ax.scatter(y_true, y_pred)\n",
    "#     ax.set_xlabel('True Ranking')\n",
    "#     ax.set_ylabel('Predicted Ranking')\n",
    "#     ax.plot([y_true.min(), y_true.max()], [y_true.min(), y_true.max()], color='black', linestyle='--')\n",
    "#     \n",
    "#     from sklearn.metrics import r2_score\n",
    "#     \n",
    "#     y_pred = grid.best_estimator_.predict(X_test)\n",
    "#     r2 = r2_score(y_test, y_pred)\n",
    "#     print(\"R-squared:\", r2)\n",
    "#     # This measures the proportion of the variance in the target variable that is explained by the model. \n",
    "#     #It ranges from 0 to 1, with higher values indicating a better fit.\n",
    "#   \n",
    "\n",
    "\n",
    "\n",
    "\n",
    "\n",
    "#     ## SVM\n",
    "#     \n",
    "#     X_train, X_test, y_train, y_test = train_test_split(df.drop('Ranking', 1), df['Ranking'],\n",
    "#                                                         test_size=0.2, random_state=42)\n",
    "#     \n",
    "#     numerical = ['Unemployment Rate', 'PIB p/c',         \n",
    "#                  'Population', 'Life Expectancy',            \n",
    "#                  'Current Health Expenditure', 'Primary Completion Rate',            \n",
    "#                  'Prevelance of Food Insecurity'] \n",
    "#     #dropped gini\n",
    "#     \n",
    "#     categorical = ['Country Name', 'Country Code', 'Year'] \n",
    "#     \n",
    "#     standard_scaler = StandardScaler()\n",
    "#     ohe = OneHotEncoder(handle_unknown=\"ignore\")\n",
    "#     \n",
    "#     preprocesador = ColumnTransformer(\n",
    "#         transformers=[\n",
    "#             (\"num\", standard_scaler, numerical),\n",
    "#             (\"cat\", ohe, categorical),\n",
    "#         ]\n",
    "#     ) \n",
    "#     \n",
    "#     from sklearn.svm import SVC\n",
    "#     \n",
    "#     svm = SVC(random_state=42)\n",
    "#     parametros = {\n",
    "#         'model__kernel': ['linear', 'rbf', 'poly'],\n",
    "#         'model__C': [0.1, 1, 10, 100],\n",
    "#         'model__gamma': ['scale', 'auto'] + list(np.arange(0.1, 1.1, 0.1)),\n",
    "#         'model__class_weight': [None, 'balanced']\n",
    "#     }\n",
    "#     \n",
    "#     pipe = Pipeline(steps=[(\"pre\", preprocesador), (\"model\", svm)]) \n",
    "#     \n",
    "#     grid = RandomizedSearchCV(pipe, parametros, n_jobs=-1) \n",
    "#     \n",
    "#     grid.fit(X_train, y_train)\n",
    "#     print('Modelo entrenado.')\n",
    "#     \n",
    "#     grid.best_params_\n",
    "#     \n",
    "#     y_pred = grid.best_estimator_.predict(X_train)\n",
    "#     y_pred = pd.Series(y_pred, name='Pred')\n",
    "#     y_true = np.array(y_train)\n",
    "#     y_true = pd.Series(y_true, name='True')\n",
    "#     \n",
    "#     fig, ax = plt.subplots()\n",
    "#     ax.scatter(y_true, y_pred)\n",
    "#     ax.set_xlabel('True Ranking')\n",
    "#     ax.set_ylabel('Predicted Ranking')\n",
    "#     ax.plot([y_true.min(), y_true.max()], [y_true.min(), y_true.max()], color='black', linestyle='--')\n",
    "#     \n",
    "#     y_pred = grid.best_estimator_.predict(X_test)\n",
    "#     y_pred = pd.Series(y_pred, name='Pred')\n",
    "#     y_true = np.array(y_test)\n",
    "#     y_true = pd.Series(y_true, name='True')\n",
    "#     \n",
    "#     fig, ax = plt.subplots()\n",
    "#     ax.scatter(y_true, y_pred)\n",
    "#     ax.set_xlabel('True Ranking')\n",
    "#     ax.set_ylabel('Predicted Ranking')\n",
    "#     ax.plot([y_true.min(), y_true.max()], [y_true.min(), y_true.max()], color='black', linestyle='--')\n",
    "#     \n",
    "#     y_pred = grid.best_estimator_.predict(X_test)\n",
    "#     mse = mean_squared_error(y_test, y_pred)\n",
    "#     print(\"MSE:\", mse)\n",
    "#     #This measures the average squared difference between the predicted and actual values.\n",
    "#     \n",
    "#     rmse = np.sqrt(mse)\n",
    "#     print(\"RMSE:\", rmse)\n",
    "#     #This is the square root of the mean squared error and is another popular metric for regression problems. \n",
    "#     #It is in the same unit as the target variable, which makes it easier to interpret\n",
    "#     \n",
    "#     mae = mean_absolute_error(y_test,y_pred)\n",
    "#     print(\"MAE:\",mae)\n",
    "#     #This measures the average absolute difference between the predicted and actual values. \n",
    "#     #It is less sensitive to outliers than MSE and RMSE.\n",
    "#     \n",
    "#     y_pred = grid.best_estimator_.predict(X_test)\n",
    "#     r2 = r2_score(y_test, y_pred)\n",
    "#     print(\"R-squared:\", r2)\n",
    "#     # This measures the proportion of the variance in the target variable that is explained by the model. \n",
    "#     #It ranges from 0 to 1, with higher values indicating a better fit."
   ]
  },
  {
   "cell_type": "markdown",
   "id": "619a32b0-f2b5-4501-9bb2-59f230b34187",
   "metadata": {},
   "source": [
    "## Random Forest Classifier -- tomemos este "
   ]
  },
  {
   "cell_type": "code",
   "execution_count": 65,
   "id": "0118fe7d-c7c5-4d5b-8dcf-017b6237659b",
   "metadata": {},
   "outputs": [],
   "source": [
    "X_train, X_test, y_train, y_test = train_test_split(df.drop(['Ranking', 'is_top20'], 1), df['is_top20'],\n",
    "                                                    test_size=0.2, random_state=42)"
   ]
  },
  {
   "cell_type": "code",
   "execution_count": 66,
   "id": "d6554efb-faf1-46b9-a503-436ca113408b",
   "metadata": {},
   "outputs": [],
   "source": [
    "numerical = [\n",
    "             'Unemployment Rate', \n",
    "             'PIB p/c',         \n",
    "             'Population', \n",
    "             'Life Expectancy',            \n",
    "             'Current Health Expenditure', \n",
    "             'Primary Completion Rate'\n",
    "            ] \n",
    "#dropped gini,Prevelance of Food Insecurity\n",
    "\n",
    "categorical = [\n",
    "               'Country Name', \n",
    "               'Country Code', \n",
    "               'Year',\n",
    "              ] "
   ]
  },
  {
   "cell_type": "code",
   "execution_count": 67,
   "id": "d19e7b5f-9ecc-4341-9608-fe548b28a422",
   "metadata": {},
   "outputs": [],
   "source": [
    "standard_scaler = StandardScaler()\n",
    "ohe = OneHotEncoder(handle_unknown=\"ignore\")"
   ]
  },
  {
   "cell_type": "code",
   "execution_count": 68,
   "id": "a98422cd-d286-4c68-af54-4d5a911e49a7",
   "metadata": {},
   "outputs": [],
   "source": [
    "preprocesador = ColumnTransformer(\n",
    "    transformers=[\n",
    "        (\"num\", standard_scaler, numerical),\n",
    "        (\"cat\", ohe, categorical),\n",
    "    ]\n",
    ") "
   ]
  },
  {
   "cell_type": "code",
   "execution_count": 69,
   "id": "b8a591ae-bfc2-4006-920a-141fbbe34d56",
   "metadata": {},
   "outputs": [],
   "source": [
    "rfc = RandomForestClassifier(random_state=42)\n",
    "parametros = {\n",
    "              'model__n_estimators': np.arange(500,1000,100),\n",
    "              'model__max_depth': [3,5,7,10,None]\n",
    "             }"
   ]
  },
  {
   "cell_type": "code",
   "execution_count": 70,
   "id": "d75c82c3-b3e1-4b74-b0f3-3ece742b7338",
   "metadata": {},
   "outputs": [],
   "source": [
    "pipe = Pipeline(steps=[(\"pre\", preprocesador), (\"model\", rfc)])"
   ]
  },
  {
   "cell_type": "code",
   "execution_count": 71,
   "id": "b52f52ab-4495-49e8-8ff8-1f49c403cf54",
   "metadata": {},
   "outputs": [],
   "source": [
    "grid = RandomizedSearchCV(pipe, parametros, n_jobs=-1)"
   ]
  },
  {
   "cell_type": "code",
   "execution_count": 72,
   "id": "147d4dec-94b6-416e-95f1-d1fcc30437c2",
   "metadata": {},
   "outputs": [
    {
     "name": "stdout",
     "output_type": "stream",
     "text": [
      "Modelo entrenado.\n"
     ]
    }
   ],
   "source": [
    "grid.fit(X_train, y_train)\n",
    "print('Modelo entrenado.')"
   ]
  },
  {
   "cell_type": "code",
   "execution_count": 156,
   "id": "5d39fc63-671f-4a57-919e-a5e90f8eff94",
   "metadata": {},
   "outputs": [
    {
     "name": "stdout",
     "output_type": "stream",
     "text": [
      "Best parameters: {'model__n_estimators': 900, 'model__max_depth': None}\n",
      "Accuracy: 0.9734\n",
      "Recall: 0.7500\n",
      "Precision: 0.9130\n"
     ]
    }
   ],
   "source": [
    "y_pred = grid.predict(X_test)\n",
    "print('Best parameters:', grid.best_params_)\n",
    "accuracy = accuracy_score(y_test, y_pred)\n",
    "print(f'Accuracy: {accuracy:.4f}')\n",
    "recall = recall_score(y_test, y_pred)\n",
    "print(f'Recall: {recall:.4f}')\n",
    "precision = precision_score(y_test, y_pred)\n",
    "print(f'Precision: {precision:.4f}')"
   ]
  },
  {
   "cell_type": "code",
   "execution_count": 79,
   "id": "94ec32df",
   "metadata": {},
   "outputs": [],
   "source": [
    "from sklearn.metrics import confusion_matrix, ConfusionMatrixDisplay"
   ]
  },
  {
   "cell_type": "code",
   "execution_count": 83,
   "id": "76888cbc",
   "metadata": {},
   "outputs": [],
   "source": [
    "y_pred = grid.best_estimator_.predict(X_train)\n",
    "y_pred = pd.Series(y_pred, name='Pred')\n",
    "y_true = np.array(y_train)\n",
    "y_true = pd.Series(y_true, name='True')"
   ]
  },
  {
   "cell_type": "code",
   "execution_count": 84,
   "id": "700b0898",
   "metadata": {},
   "outputs": [
    {
     "data": {
      "image/png": "[encoded data removed]",
      "text/plain": [
       "<Figure size 432x288 with 2 Axes>"
      ]
     },
     "metadata": {
      "needs_background": "light"
     },
     "output_type": "display_data"
    }
   ],
   "source": [
    "cm = confusion_matrix(y_true, y_pred, labels=grid.classes_)\n",
    "disp = ConfusionMatrixDisplay(confusion_matrix=cm,\n",
    "                              display_labels=grid.classes_)\n",
    "disp.plot()\n",
    "plt.show()"
   ]
  },
  {
   "cell_type": "code",
   "execution_count": 85,
   "id": "8972094e-277d-4fd3-ab90-d010a4e25648",
   "metadata": {},
   "outputs": [],
   "source": [
    "y_pred = grid.best_estimator_.predict(X_test)\n",
    "y_pred = pd.Series(y_pred, name='Pred')\n",
    "y_true = np.array(y_test)\n",
    "y_true = pd.Series(y_true, name='True')"
   ]
  },
  {
   "cell_type": "code",
   "execution_count": 86,
   "id": "5b6cb341",
   "metadata": {},
   "outputs": [
    {
     "data": {
      "image/png": "[encoded data removed]",
      "text/plain": [
       "<Figure size 432x288 with 2 Axes>"
      ]
     },
     "metadata": {
      "needs_background": "light"
     },
     "output_type": "display_data"
    }
   ],
   "source": [
    "cm = confusion_matrix(y_true, y_pred, labels=grid.classes_)\n",
    "disp = ConfusionMatrixDisplay(confusion_matrix=cm,\n",
    "                              display_labels=grid.classes_)\n",
    "disp.plot()\n",
    "plt.show()"
   ]
  },
  {
   "cell_type": "code",
   "execution_count": 93,
   "id": "dd0b0ebe",
   "metadata": {},
   "outputs": [],
   "source": [
    "import shap"
   ]
  },
  {
   "cell_type": "code",
   "execution_count": 95,
   "id": "7ad1e0f5",
   "metadata": {},
   "outputs": [],
   "source": [
    "import sklearn\n",
    "import shap"
   ]
  },
  {
   "cell_type": "code",
   "execution_count": 96,
   "id": "1cf39d18",
   "metadata": {},
   "outputs": [],
   "source": [
    "X,y = shap.datasets.adult()\n",
    "X[\"Occupation\"] *= 1000 # to show the impact of feature scale on KNN predictions\n",
    "X_display,y_display = shap.datasets.adult(display=True)\n",
    "X_train_, X_valid_, y_train_, y_valid_ = sklearn.model_selection.train_test_split(X, y, test_size=0.2, random_state=7)"
   ]
  },
  {
   "cell_type": "code",
   "execution_count": 97,
   "id": "b7514bb4",
   "metadata": {},
   "outputs": [
    {
     "data": {
      "text/plain": [
       "KNeighborsClassifier()"
      ]
     },
     "execution_count": 97,
     "metadata": {},
     "output_type": "execute_result"
    }
   ],
   "source": [
    "knn = sklearn.neighbors.KNeighborsClassifier()\n",
    "knn.fit(X_train_, y_train_)"
   ]
  },
  {
   "cell_type": "code",
   "execution_count": 99,
   "id": "0d4061d0",
   "metadata": {},
   "outputs": [],
   "source": [
    "f = lambda x: knn.predict_proba(x)[:,1]\n",
    "med = X_train_.median().values.reshape((1,X_train_.shape[1]))"
   ]
  },
  {
   "cell_type": "code",
   "execution_count": 108,
   "id": "be7b9bd9",
   "metadata": {},
   "outputs": [
    {
     "name": "stderr",
     "output_type": "stream",
     "text": [
      "Permutation explainer: 1001it [01:39,  9.61it/s]                                                                       \n"
     ]
    }
   ],
   "source": [
    "explainer = shap.Explainer(f, med)\n",
    "shap_values = explainer(X_valid_.iloc[0:1000,:])"
   ]
  },
  {
   "cell_type": "code",
   "execution_count": 109,
   "id": "a18f5d32",
   "metadata": {},
   "outputs": [
    {
     "data": {
      "image/png": "[encoded data removed]",
      "text/plain": [
       "<Figure size 576x468 with 3 Axes>"
      ]
     },
     "metadata": {},
     "output_type": "display_data"
    }
   ],
   "source": [
    "shap.plots.waterfall(shap_values[0])"
   ]
  },
  {
   "cell_type": "code",
   "execution_count": 114,
   "id": "1a5158e4",
   "metadata": {},
   "outputs": [
    {
     "data": {
      "text/plain": [
       "(338, 10)"
      ]
     },
     "execution_count": 114,
     "metadata": {},
     "output_type": "execute_result"
    }
   ],
   "source": [
    "X_test.shape"
   ]
  },
  {
   "cell_type": "code",
   "execution_count": 119,
   "id": "6b70b48c",
   "metadata": {},
   "outputs": [
    {
     "data": {
      "text/plain": [
       "<function __main__.<lambda>(x)>"
      ]
     },
     "execution_count": 119,
     "metadata": {},
     "output_type": "execute_result"
    }
   ],
   "source": [
    "predict_proba"
   ]
  },
  {
   "cell_type": "code",
   "execution_count": 205,
   "id": "51daab93",
   "metadata": {},
   "outputs": [
    {
     "data": {
      "text/plain": [
       "RandomForestClassifier(n_estimators=900, random_state=42)"
      ]
     },
     "execution_count": 205,
     "metadata": {},
     "output_type": "execute_result"
    }
   ],
   "source": [
    "grid.best_estimator_.named_steps['model']"
   ]
  },
  {
   "cell_type": "code",
   "execution_count": 207,
   "id": "38e4569c",
   "metadata": {},
   "outputs": [
    {
     "ename": "ValueError",
     "evalue": "could not convert string to float: 'Russian Federation'",
     "output_type": "error",
     "traceback": [
      "\u001b[1;31m---------------------------------------------------------------------------\u001b[0m",
      "\u001b[1;31mValueError\u001b[0m                                Traceback (most recent call last)",
      "\u001b[1;32m<ipython-input-207-78c4caaa39a8>\u001b[0m in \u001b[0;36m<module>\u001b[1;34m\u001b[0m\n\u001b[0;32m      3\u001b[0m \u001b[1;33m\u001b[0m\u001b[0m\n\u001b[0;32m      4\u001b[0m \u001b[1;31m# Compute SHAP values for the test set\u001b[0m\u001b[1;33m\u001b[0m\u001b[1;33m\u001b[0m\u001b[1;33m\u001b[0m\u001b[0m\n\u001b[1;32m----> 5\u001b[1;33m \u001b[0mshap_values\u001b[0m \u001b[1;33m=\u001b[0m \u001b[0mexplainer\u001b[0m\u001b[1;33m(\u001b[0m\u001b[0mX_test\u001b[0m\u001b[1;33m)\u001b[0m\u001b[1;33m\u001b[0m\u001b[1;33m\u001b[0m\u001b[0m\n\u001b[0m\u001b[0;32m      6\u001b[0m \u001b[1;33m\u001b[0m\u001b[0m\n\u001b[0;32m      7\u001b[0m \u001b[1;31m# # Plot the SHAP values for the first instance in the test set\u001b[0m\u001b[1;33m\u001b[0m\u001b[1;33m\u001b[0m\u001b[1;33m\u001b[0m\u001b[0m\n",
      "\u001b[1;32mc:\\users\\mike\\appdata\\local\\programs\\python\\python39\\lib\\site-packages\\shap\\explainers\\_tree.py\u001b[0m in \u001b[0;36m__call__\u001b[1;34m(self, X, y, interactions, check_additivity)\u001b[0m\n\u001b[0;32m    215\u001b[0m \u001b[1;33m\u001b[0m\u001b[0m\n\u001b[0;32m    216\u001b[0m         \u001b[1;32mif\u001b[0m \u001b[1;32mnot\u001b[0m \u001b[0minteractions\u001b[0m\u001b[1;33m:\u001b[0m\u001b[1;33m\u001b[0m\u001b[1;33m\u001b[0m\u001b[0m\n\u001b[1;32m--> 217\u001b[1;33m             \u001b[0mv\u001b[0m \u001b[1;33m=\u001b[0m \u001b[0mself\u001b[0m\u001b[1;33m.\u001b[0m\u001b[0mshap_values\u001b[0m\u001b[1;33m(\u001b[0m\u001b[0mX\u001b[0m\u001b[1;33m,\u001b[0m \u001b[0my\u001b[0m\u001b[1;33m=\u001b[0m\u001b[0my\u001b[0m\u001b[1;33m,\u001b[0m \u001b[0mfrom_call\u001b[0m\u001b[1;33m=\u001b[0m\u001b[1;32mTrue\u001b[0m\u001b[1;33m,\u001b[0m \u001b[0mcheck_additivity\u001b[0m\u001b[1;33m=\u001b[0m\u001b[0mcheck_additivity\u001b[0m\u001b[1;33m,\u001b[0m \u001b[0mapproximate\u001b[0m\u001b[1;33m=\u001b[0m\u001b[0mself\u001b[0m\u001b[1;33m.\u001b[0m\u001b[0mapproximate\u001b[0m\u001b[1;33m)\u001b[0m\u001b[1;33m\u001b[0m\u001b[1;33m\u001b[0m\u001b[0m\n\u001b[0m\u001b[0;32m    218\u001b[0m             \u001b[1;32mif\u001b[0m \u001b[0mtype\u001b[0m\u001b[1;33m(\u001b[0m\u001b[0mv\u001b[0m\u001b[1;33m)\u001b[0m \u001b[1;32mis\u001b[0m \u001b[0mlist\u001b[0m\u001b[1;33m:\u001b[0m\u001b[1;33m\u001b[0m\u001b[1;33m\u001b[0m\u001b[0m\n\u001b[0;32m    219\u001b[0m                 \u001b[0mv\u001b[0m \u001b[1;33m=\u001b[0m \u001b[0mnp\u001b[0m\u001b[1;33m.\u001b[0m\u001b[0mstack\u001b[0m\u001b[1;33m(\u001b[0m\u001b[0mv\u001b[0m\u001b[1;33m,\u001b[0m \u001b[0maxis\u001b[0m\u001b[1;33m=\u001b[0m\u001b[1;33m-\u001b[0m\u001b[1;36m1\u001b[0m\u001b[1;33m)\u001b[0m \u001b[1;31m# put outputs at the end\u001b[0m\u001b[1;33m\u001b[0m\u001b[1;33m\u001b[0m\u001b[0m\n",
      "\u001b[1;32mc:\\users\\mike\\appdata\\local\\programs\\python\\python39\\lib\\site-packages\\shap\\explainers\\_tree.py\u001b[0m in \u001b[0;36mshap_values\u001b[1;34m(self, X, y, tree_limit, approximate, check_additivity, from_call)\u001b[0m\n\u001b[0;32m    382\u001b[0m                 \u001b[1;32mreturn\u001b[0m \u001b[0mout\u001b[0m\u001b[1;33m\u001b[0m\u001b[1;33m\u001b[0m\u001b[0m\n\u001b[0;32m    383\u001b[0m \u001b[1;33m\u001b[0m\u001b[0m\n\u001b[1;32m--> 384\u001b[1;33m         X, y, X_missing, flat_output, tree_limit, check_additivity = self._validate_inputs(X, y,\n\u001b[0m\u001b[0;32m    385\u001b[0m                                                                                            \u001b[0mtree_limit\u001b[0m\u001b[1;33m,\u001b[0m\u001b[1;33m\u001b[0m\u001b[1;33m\u001b[0m\u001b[0m\n\u001b[0;32m    386\u001b[0m                                                                                            check_additivity)\n",
      "\u001b[1;32mc:\\users\\mike\\appdata\\local\\programs\\python\\python39\\lib\\site-packages\\shap\\explainers\\_tree.py\u001b[0m in \u001b[0;36m_validate_inputs\u001b[1;34m(self, X, y, tree_limit, check_additivity)\u001b[0m\n\u001b[0;32m    247\u001b[0m             \u001b[0mX\u001b[0m \u001b[1;33m=\u001b[0m \u001b[0mX\u001b[0m\u001b[1;33m.\u001b[0m\u001b[0mreshape\u001b[0m\u001b[1;33m(\u001b[0m\u001b[1;36m1\u001b[0m\u001b[1;33m,\u001b[0m \u001b[0mX\u001b[0m\u001b[1;33m.\u001b[0m\u001b[0mshape\u001b[0m\u001b[1;33m[\u001b[0m\u001b[1;36m0\u001b[0m\u001b[1;33m]\u001b[0m\u001b[1;33m)\u001b[0m\u001b[1;33m\u001b[0m\u001b[1;33m\u001b[0m\u001b[0m\n\u001b[0;32m    248\u001b[0m         \u001b[1;32mif\u001b[0m \u001b[0mX\u001b[0m\u001b[1;33m.\u001b[0m\u001b[0mdtype\u001b[0m \u001b[1;33m!=\u001b[0m \u001b[0mself\u001b[0m\u001b[1;33m.\u001b[0m\u001b[0mmodel\u001b[0m\u001b[1;33m.\u001b[0m\u001b[0minput_dtype\u001b[0m\u001b[1;33m:\u001b[0m\u001b[1;33m\u001b[0m\u001b[1;33m\u001b[0m\u001b[0m\n\u001b[1;32m--> 249\u001b[1;33m             \u001b[0mX\u001b[0m \u001b[1;33m=\u001b[0m \u001b[0mX\u001b[0m\u001b[1;33m.\u001b[0m\u001b[0mastype\u001b[0m\u001b[1;33m(\u001b[0m\u001b[0mself\u001b[0m\u001b[1;33m.\u001b[0m\u001b[0mmodel\u001b[0m\u001b[1;33m.\u001b[0m\u001b[0minput_dtype\u001b[0m\u001b[1;33m)\u001b[0m\u001b[1;33m\u001b[0m\u001b[1;33m\u001b[0m\u001b[0m\n\u001b[0m\u001b[0;32m    250\u001b[0m         \u001b[0mX_missing\u001b[0m \u001b[1;33m=\u001b[0m \u001b[0mnp\u001b[0m\u001b[1;33m.\u001b[0m\u001b[0misnan\u001b[0m\u001b[1;33m(\u001b[0m\u001b[0mX\u001b[0m\u001b[1;33m,\u001b[0m \u001b[0mdtype\u001b[0m\u001b[1;33m=\u001b[0m\u001b[0mnp\u001b[0m\u001b[1;33m.\u001b[0m\u001b[0mbool\u001b[0m\u001b[1;33m)\u001b[0m\u001b[1;33m\u001b[0m\u001b[1;33m\u001b[0m\u001b[0m\n\u001b[0;32m    251\u001b[0m         \u001b[1;32massert\u001b[0m \u001b[0misinstance\u001b[0m\u001b[1;33m(\u001b[0m\u001b[0mX\u001b[0m\u001b[1;33m,\u001b[0m \u001b[0mnp\u001b[0m\u001b[1;33m.\u001b[0m\u001b[0mndarray\u001b[0m\u001b[1;33m)\u001b[0m\u001b[1;33m,\u001b[0m \u001b[1;34m\"Unknown instance type: \"\u001b[0m \u001b[1;33m+\u001b[0m \u001b[0mstr\u001b[0m\u001b[1;33m(\u001b[0m\u001b[0mtype\u001b[0m\u001b[1;33m(\u001b[0m\u001b[0mX\u001b[0m\u001b[1;33m)\u001b[0m\u001b[1;33m)\u001b[0m\u001b[1;33m\u001b[0m\u001b[1;33m\u001b[0m\u001b[0m\n",
      "\u001b[1;31mValueError\u001b[0m: could not convert string to float: 'Russian Federation'"
     ]
    }
   ],
   "source": [
    "# Create a SHAP explainer object for the fitted model\n",
    "explainer = shap.Explainer(grid.best_estimator_.named_steps['model'])\n",
    "\n",
    "# Compute SHAP values for the test set\n",
    "shap_values = explainer(X_test)\n",
    "\n",
    "# # Plot the SHAP values for the first instance in the test set\n",
    "# shap.plots.waterfall(shap_values[0], max_display=10)\n",
    "\n",
    "# # Plot the feature importance using SHAP summary plot\n",
    "# shap.summary_plot(shap_values, X_test, plot_type='bar')"
   ]
  },
  {
   "cell_type": "code",
   "execution_count": 208,
   "id": "4858d0a6",
   "metadata": {},
   "outputs": [],
   "source": []
  },
  {
   "cell_type": "code",
   "execution_count": 211,
   "id": "52553d75",
   "metadata": {},
   "outputs": [
    {
     "data": {
      "text/plain": [
       "<338x393 sparse matrix of type '<class 'numpy.float64'>'\n",
       "\twith 3042 stored elements in Compressed Sparse Row format>"
      ]
     },
     "execution_count": 211,
     "metadata": {},
     "output_type": "execute_result"
    }
   ],
   "source": [
    "X_test_preprocessed"
   ]
  },
  {
   "cell_type": "code",
   "execution_count": 215,
   "id": "30317758",
   "metadata": {},
   "outputs": [
    {
     "data": {
      "text/plain": [
       "<338x393 sparse matrix of type '<class 'numpy.float64'>'\n",
       "\twith 3042 stored elements in Compressed Sparse Row format>"
      ]
     },
     "execution_count": 215,
     "metadata": {},
     "output_type": "execute_result"
    }
   ],
   "source": [
    "preproc(X_test)"
   ]
  },
  {
   "cell_type": "code",
   "execution_count": 218,
   "id": "435229c1",
   "metadata": {},
   "outputs": [
    {
     "data": {
      "text/plain": [
       "<338x393 sparse matrix of type '<class 'numpy.float64'>'\n",
       "\twith 3042 stored elements in Compressed Sparse Row format>"
      ]
     },
     "execution_count": 218,
     "metadata": {},
     "output_type": "execute_result"
    }
   ],
   "source": [
    "X_test_preprocessed"
   ]
  },
  {
   "cell_type": "code",
   "execution_count": 219,
   "id": "e9d5f845",
   "metadata": {},
   "outputs": [
    {
     "ename": "DimensionError",
     "evalue": "The passed data does not match the background shape expected by the masker! The data of shape (1, 393) was passed while the masker expected data of shape (393,).",
     "output_type": "error",
     "traceback": [
      "\u001b[1;31m---------------------------------------------------------------------------\u001b[0m",
      "\u001b[1;31mDimensionError\u001b[0m                            Traceback (most recent call last)",
      "\u001b[1;32m<ipython-input-219-897ce4b43ce4>\u001b[0m in \u001b[0;36m<module>\u001b[1;34m\u001b[0m\n\u001b[0;32m     11\u001b[0m \u001b[1;33m\u001b[0m\u001b[0m\n\u001b[0;32m     12\u001b[0m \u001b[1;31m# Compute the SHAP values for the test set\u001b[0m\u001b[1;33m\u001b[0m\u001b[1;33m\u001b[0m\u001b[1;33m\u001b[0m\u001b[0m\n\u001b[1;32m---> 13\u001b[1;33m \u001b[0mshap_values_top20\u001b[0m \u001b[1;33m=\u001b[0m \u001b[0mexplainer_top20\u001b[0m\u001b[1;33m(\u001b[0m\u001b[0mX_test_preprocessed\u001b[0m\u001b[1;33m)\u001b[0m\u001b[1;33m\u001b[0m\u001b[1;33m\u001b[0m\u001b[0m\n\u001b[0m",
      "\u001b[1;32mc:\\users\\mike\\appdata\\local\\programs\\python\\python39\\lib\\site-packages\\shap\\explainers\\_permutation.py\u001b[0m in \u001b[0;36m__call__\u001b[1;34m(self, max_evals, main_effects, error_bounds, batch_size, outputs, silent, *args)\u001b[0m\n\u001b[0;32m     80\u001b[0m         \"\"\" Explain the output of the model on the given arguments.\n\u001b[0;32m     81\u001b[0m         \"\"\"\n\u001b[1;32m---> 82\u001b[1;33m         return super().__call__(\n\u001b[0m\u001b[0;32m     83\u001b[0m             \u001b[1;33m*\u001b[0m\u001b[0margs\u001b[0m\u001b[1;33m,\u001b[0m \u001b[0mmax_evals\u001b[0m\u001b[1;33m=\u001b[0m\u001b[0mmax_evals\u001b[0m\u001b[1;33m,\u001b[0m \u001b[0mmain_effects\u001b[0m\u001b[1;33m=\u001b[0m\u001b[0mmain_effects\u001b[0m\u001b[1;33m,\u001b[0m \u001b[0merror_bounds\u001b[0m\u001b[1;33m=\u001b[0m\u001b[0merror_bounds\u001b[0m\u001b[1;33m,\u001b[0m \u001b[0mbatch_size\u001b[0m\u001b[1;33m=\u001b[0m\u001b[0mbatch_size\u001b[0m\u001b[1;33m,\u001b[0m\u001b[1;33m\u001b[0m\u001b[1;33m\u001b[0m\u001b[0m\n\u001b[0;32m     84\u001b[0m             \u001b[0moutputs\u001b[0m\u001b[1;33m=\u001b[0m\u001b[0moutputs\u001b[0m\u001b[1;33m,\u001b[0m \u001b[0msilent\u001b[0m\u001b[1;33m=\u001b[0m\u001b[0msilent\u001b[0m\u001b[1;33m\u001b[0m\u001b[1;33m\u001b[0m\u001b[0m\n",
      "\u001b[1;32mc:\\users\\mike\\appdata\\local\\programs\\python\\python39\\lib\\site-packages\\shap\\explainers\\_explainer.py\u001b[0m in \u001b[0;36m__call__\u001b[1;34m(self, max_evals, main_effects, error_bounds, batch_size, outputs, silent, *args, **kwargs)\u001b[0m\n\u001b[0;32m    264\u001b[0m             \u001b[0mfeature_names\u001b[0m \u001b[1;33m=\u001b[0m \u001b[1;33m[\u001b[0m\u001b[1;33m[\u001b[0m\u001b[1;33m]\u001b[0m \u001b[1;32mfor\u001b[0m \u001b[0m_\u001b[0m \u001b[1;32min\u001b[0m \u001b[0mrange\u001b[0m\u001b[1;33m(\u001b[0m\u001b[0mlen\u001b[0m\u001b[1;33m(\u001b[0m\u001b[0margs\u001b[0m\u001b[1;33m)\u001b[0m\u001b[1;33m)\u001b[0m\u001b[1;33m]\u001b[0m\u001b[1;33m\u001b[0m\u001b[1;33m\u001b[0m\u001b[0m\n\u001b[0;32m    265\u001b[0m         \u001b[1;32mfor\u001b[0m \u001b[0mrow_args\u001b[0m \u001b[1;32min\u001b[0m \u001b[0mshow_progress\u001b[0m\u001b[1;33m(\u001b[0m\u001b[0mzip\u001b[0m\u001b[1;33m(\u001b[0m\u001b[1;33m*\u001b[0m\u001b[0margs\u001b[0m\u001b[1;33m)\u001b[0m\u001b[1;33m,\u001b[0m \u001b[0mnum_rows\u001b[0m\u001b[1;33m,\u001b[0m \u001b[0mself\u001b[0m\u001b[1;33m.\u001b[0m\u001b[0m__class__\u001b[0m\u001b[1;33m.\u001b[0m\u001b[0m__name__\u001b[0m\u001b[1;33m+\u001b[0m\u001b[1;34m\" explainer\"\u001b[0m\u001b[1;33m,\u001b[0m \u001b[0msilent\u001b[0m\u001b[1;33m)\u001b[0m\u001b[1;33m:\u001b[0m\u001b[1;33m\u001b[0m\u001b[1;33m\u001b[0m\u001b[0m\n\u001b[1;32m--> 266\u001b[1;33m             row_result = self.explain_row(\n\u001b[0m\u001b[0;32m    267\u001b[0m                 \u001b[1;33m*\u001b[0m\u001b[0mrow_args\u001b[0m\u001b[1;33m,\u001b[0m \u001b[0mmax_evals\u001b[0m\u001b[1;33m=\u001b[0m\u001b[0mmax_evals\u001b[0m\u001b[1;33m,\u001b[0m \u001b[0mmain_effects\u001b[0m\u001b[1;33m=\u001b[0m\u001b[0mmain_effects\u001b[0m\u001b[1;33m,\u001b[0m \u001b[0merror_bounds\u001b[0m\u001b[1;33m=\u001b[0m\u001b[0merror_bounds\u001b[0m\u001b[1;33m,\u001b[0m\u001b[1;33m\u001b[0m\u001b[1;33m\u001b[0m\u001b[0m\n\u001b[0;32m    268\u001b[0m                 \u001b[0mbatch_size\u001b[0m\u001b[1;33m=\u001b[0m\u001b[0mbatch_size\u001b[0m\u001b[1;33m,\u001b[0m \u001b[0moutputs\u001b[0m\u001b[1;33m=\u001b[0m\u001b[0moutputs\u001b[0m\u001b[1;33m,\u001b[0m \u001b[0msilent\u001b[0m\u001b[1;33m=\u001b[0m\u001b[0msilent\u001b[0m\u001b[1;33m,\u001b[0m \u001b[1;33m**\u001b[0m\u001b[0mkwargs\u001b[0m\u001b[1;33m\u001b[0m\u001b[1;33m\u001b[0m\u001b[0m\n",
      "\u001b[1;32mc:\\users\\mike\\appdata\\local\\programs\\python\\python39\\lib\\site-packages\\shap\\explainers\\_permutation.py\u001b[0m in \u001b[0;36mexplain_row\u001b[1;34m(self, max_evals, main_effects, error_bounds, batch_size, outputs, silent, *row_args)\u001b[0m\n\u001b[0;32m     90\u001b[0m \u001b[1;33m\u001b[0m\u001b[0m\n\u001b[0;32m     91\u001b[0m         \u001b[1;31m# build a masked version of the model for the current input sample\u001b[0m\u001b[1;33m\u001b[0m\u001b[1;33m\u001b[0m\u001b[1;33m\u001b[0m\u001b[0m\n\u001b[1;32m---> 92\u001b[1;33m         \u001b[0mfm\u001b[0m \u001b[1;33m=\u001b[0m \u001b[0mMaskedModel\u001b[0m\u001b[1;33m(\u001b[0m\u001b[0mself\u001b[0m\u001b[1;33m.\u001b[0m\u001b[0mmodel\u001b[0m\u001b[1;33m,\u001b[0m \u001b[0mself\u001b[0m\u001b[1;33m.\u001b[0m\u001b[0mmasker\u001b[0m\u001b[1;33m,\u001b[0m \u001b[0mself\u001b[0m\u001b[1;33m.\u001b[0m\u001b[0mlink\u001b[0m\u001b[1;33m,\u001b[0m \u001b[0mself\u001b[0m\u001b[1;33m.\u001b[0m\u001b[0mlinearize_link\u001b[0m\u001b[1;33m,\u001b[0m \u001b[1;33m*\u001b[0m\u001b[0mrow_args\u001b[0m\u001b[1;33m)\u001b[0m\u001b[1;33m\u001b[0m\u001b[1;33m\u001b[0m\u001b[0m\n\u001b[0m\u001b[0;32m     93\u001b[0m \u001b[1;33m\u001b[0m\u001b[0m\n\u001b[0;32m     94\u001b[0m         \u001b[1;31m# by default we run 10 permutations forward and backward\u001b[0m\u001b[1;33m\u001b[0m\u001b[1;33m\u001b[0m\u001b[1;33m\u001b[0m\u001b[0m\n",
      "\u001b[1;32mc:\\users\\mike\\appdata\\local\\programs\\python\\python39\\lib\\site-packages\\shap\\utils\\_masked_model.py\u001b[0m in \u001b[0;36m__init__\u001b[1;34m(self, model, masker, link, linearize_link, *args)\u001b[0m\n\u001b[0;32m     26\u001b[0m         \u001b[1;31m# if the masker supports it, save what positions vary from the background\u001b[0m\u001b[1;33m\u001b[0m\u001b[1;33m\u001b[0m\u001b[1;33m\u001b[0m\u001b[0m\n\u001b[0;32m     27\u001b[0m         \u001b[1;32mif\u001b[0m \u001b[0mcallable\u001b[0m\u001b[1;33m(\u001b[0m\u001b[0mgetattr\u001b[0m\u001b[1;33m(\u001b[0m\u001b[0mself\u001b[0m\u001b[1;33m.\u001b[0m\u001b[0mmasker\u001b[0m\u001b[1;33m,\u001b[0m \u001b[1;34m\"invariants\"\u001b[0m\u001b[1;33m,\u001b[0m \u001b[1;32mNone\u001b[0m\u001b[1;33m)\u001b[0m\u001b[1;33m)\u001b[0m\u001b[1;33m:\u001b[0m\u001b[1;33m\u001b[0m\u001b[1;33m\u001b[0m\u001b[0m\n\u001b[1;32m---> 28\u001b[1;33m             \u001b[0mself\u001b[0m\u001b[1;33m.\u001b[0m\u001b[0m_variants\u001b[0m \u001b[1;33m=\u001b[0m \u001b[1;33m~\u001b[0m\u001b[0mself\u001b[0m\u001b[1;33m.\u001b[0m\u001b[0mmasker\u001b[0m\u001b[1;33m.\u001b[0m\u001b[0minvariants\u001b[0m\u001b[1;33m(\u001b[0m\u001b[1;33m*\u001b[0m\u001b[0margs\u001b[0m\u001b[1;33m)\u001b[0m\u001b[1;33m\u001b[0m\u001b[1;33m\u001b[0m\u001b[0m\n\u001b[0m\u001b[0;32m     29\u001b[0m             \u001b[0mself\u001b[0m\u001b[1;33m.\u001b[0m\u001b[0m_variants_column_sums\u001b[0m \u001b[1;33m=\u001b[0m \u001b[0mself\u001b[0m\u001b[1;33m.\u001b[0m\u001b[0m_variants\u001b[0m\u001b[1;33m.\u001b[0m\u001b[0msum\u001b[0m\u001b[1;33m(\u001b[0m\u001b[1;36m0\u001b[0m\u001b[1;33m)\u001b[0m\u001b[1;33m\u001b[0m\u001b[1;33m\u001b[0m\u001b[0m\n\u001b[0;32m     30\u001b[0m             self._variants_row_inds = [\n",
      "\u001b[1;32mc:\\users\\mike\\appdata\\local\\programs\\python\\python39\\lib\\site-packages\\shap\\maskers\\_tabular.py\u001b[0m in \u001b[0;36minvariants\u001b[1;34m(self, x)\u001b[0m\n\u001b[0;32m    143\u001b[0m         \u001b[1;31m# make sure we got valid data\u001b[0m\u001b[1;33m\u001b[0m\u001b[1;33m\u001b[0m\u001b[1;33m\u001b[0m\u001b[0m\n\u001b[0;32m    144\u001b[0m         \u001b[1;32mif\u001b[0m \u001b[0mx\u001b[0m\u001b[1;33m.\u001b[0m\u001b[0mshape\u001b[0m \u001b[1;33m!=\u001b[0m \u001b[0mself\u001b[0m\u001b[1;33m.\u001b[0m\u001b[0mdata\u001b[0m\u001b[1;33m.\u001b[0m\u001b[0mshape\u001b[0m\u001b[1;33m[\u001b[0m\u001b[1;36m1\u001b[0m\u001b[1;33m:\u001b[0m\u001b[1;33m]\u001b[0m\u001b[1;33m:\u001b[0m\u001b[1;33m\u001b[0m\u001b[1;33m\u001b[0m\u001b[0m\n\u001b[1;32m--> 145\u001b[1;33m             raise DimensionError(\n\u001b[0m\u001b[0;32m    146\u001b[0m                 \u001b[1;34m\"The passed data does not match the background shape expected by the masker! The data of shape \"\u001b[0m \u001b[1;33m+\u001b[0m\u001b[0;31m \u001b[0m\u001b[0;31m\\\u001b[0m\u001b[1;33m\u001b[0m\u001b[1;33m\u001b[0m\u001b[0m\n\u001b[0;32m    147\u001b[0m                 \u001b[0mstr\u001b[0m\u001b[1;33m(\u001b[0m\u001b[0mx\u001b[0m\u001b[1;33m.\u001b[0m\u001b[0mshape\u001b[0m\u001b[1;33m)\u001b[0m \u001b[1;33m+\u001b[0m \u001b[1;34m\" was passed while the masker expected data of shape \"\u001b[0m \u001b[1;33m+\u001b[0m \u001b[0mstr\u001b[0m\u001b[1;33m(\u001b[0m\u001b[0mself\u001b[0m\u001b[1;33m.\u001b[0m\u001b[0mdata\u001b[0m\u001b[1;33m.\u001b[0m\u001b[0mshape\u001b[0m\u001b[1;33m[\u001b[0m\u001b[1;36m1\u001b[0m\u001b[1;33m:\u001b[0m\u001b[1;33m]\u001b[0m\u001b[1;33m)\u001b[0m \u001b[1;33m+\u001b[0m \u001b[1;34m\".\"\u001b[0m\u001b[1;33m\u001b[0m\u001b[1;33m\u001b[0m\u001b[0m\n",
      "\u001b[1;31mDimensionError\u001b[0m: The passed data does not match the background shape expected by the masker! The data of shape (1, 393) was passed while the masker expected data of shape (393,)."
     ]
    }
   ],
   "source": [
    "preproc = grid.best_estimator_.steps[0][1].transform\n",
    "\n",
    "def predict_proba(x):\n",
    "    return grid.best_estimator_.steps[1][1].predict_proba(x)[:,1]\n",
    "\n",
    "# Preprocess the test data\n",
    "X_test_preprocessed = preproc(X_test).reshape(X_test.shape[0], -1)\n",
    "\n",
    "# Create the SHAP explainer object\n",
    "explainer_top20 = shap.Explainer(predict_proba, X_test_preprocessed)\n",
    "\n",
    "# Compute the SHAP values for the test set\n",
    "shap_values_top20 = explainer_top20(X_test_preprocessed)"
   ]
  },
  {
   "cell_type": "code",
   "execution_count": 223,
   "id": "879402e5",
   "metadata": {},
   "outputs": [
    {
     "data": {
      "text/plain": [
       "<shap.maskers._tabular.Independent at 0x1f0e3a9c160>"
      ]
     },
     "execution_count": 223,
     "metadata": {},
     "output_type": "execute_result"
    }
   ],
   "source": [
    "explainer_top20.masker."
   ]
  },
  {
   "cell_type": "code",
   "execution_count": 214,
   "id": "39dca86e",
   "metadata": {},
   "outputs": [
    {
     "ename": "DimensionError",
     "evalue": "The passed data does not match the background shape expected by the masker! The data of shape (1, 393) was passed while the masker expected data of shape (393,).",
     "output_type": "error",
     "traceback": [
      "\u001b[1;31m---------------------------------------------------------------------------\u001b[0m",
      "\u001b[1;31mDimensionError\u001b[0m                            Traceback (most recent call last)",
      "\u001b[1;32m<ipython-input-214-274b29a58df2>\u001b[0m in \u001b[0;36m<module>\u001b[1;34m\u001b[0m\n\u001b[0;32m      6\u001b[0m \u001b[1;33m\u001b[0m\u001b[0m\n\u001b[0;32m      7\u001b[0m \u001b[0mexplainer_top20\u001b[0m \u001b[1;33m=\u001b[0m \u001b[0mshap\u001b[0m\u001b[1;33m.\u001b[0m\u001b[0mExplainer\u001b[0m\u001b[1;33m(\u001b[0m\u001b[0mpredict_proba\u001b[0m\u001b[1;33m,\u001b[0m \u001b[0mX_test_preprocessed\u001b[0m\u001b[1;33m)\u001b[0m\u001b[1;33m\u001b[0m\u001b[1;33m\u001b[0m\u001b[0m\n\u001b[1;32m----> 8\u001b[1;33m \u001b[0mshap_values_top20\u001b[0m \u001b[1;33m=\u001b[0m \u001b[0mexplainer_top20\u001b[0m\u001b[1;33m(\u001b[0m\u001b[0mX_test_preprocessed\u001b[0m\u001b[1;33m)\u001b[0m\u001b[1;33m\u001b[0m\u001b[1;33m\u001b[0m\u001b[0m\n\u001b[0m",
      "\u001b[1;32mc:\\users\\mike\\appdata\\local\\programs\\python\\python39\\lib\\site-packages\\shap\\explainers\\_permutation.py\u001b[0m in \u001b[0;36m__call__\u001b[1;34m(self, max_evals, main_effects, error_bounds, batch_size, outputs, silent, *args)\u001b[0m\n\u001b[0;32m     80\u001b[0m         \"\"\" Explain the output of the model on the given arguments.\n\u001b[0;32m     81\u001b[0m         \"\"\"\n\u001b[1;32m---> 82\u001b[1;33m         return super().__call__(\n\u001b[0m\u001b[0;32m     83\u001b[0m             \u001b[1;33m*\u001b[0m\u001b[0margs\u001b[0m\u001b[1;33m,\u001b[0m \u001b[0mmax_evals\u001b[0m\u001b[1;33m=\u001b[0m\u001b[0mmax_evals\u001b[0m\u001b[1;33m,\u001b[0m \u001b[0mmain_effects\u001b[0m\u001b[1;33m=\u001b[0m\u001b[0mmain_effects\u001b[0m\u001b[1;33m,\u001b[0m \u001b[0merror_bounds\u001b[0m\u001b[1;33m=\u001b[0m\u001b[0merror_bounds\u001b[0m\u001b[1;33m,\u001b[0m \u001b[0mbatch_size\u001b[0m\u001b[1;33m=\u001b[0m\u001b[0mbatch_size\u001b[0m\u001b[1;33m,\u001b[0m\u001b[1;33m\u001b[0m\u001b[1;33m\u001b[0m\u001b[0m\n\u001b[0;32m     84\u001b[0m             \u001b[0moutputs\u001b[0m\u001b[1;33m=\u001b[0m\u001b[0moutputs\u001b[0m\u001b[1;33m,\u001b[0m \u001b[0msilent\u001b[0m\u001b[1;33m=\u001b[0m\u001b[0msilent\u001b[0m\u001b[1;33m\u001b[0m\u001b[1;33m\u001b[0m\u001b[0m\n",
      "\u001b[1;32mc:\\users\\mike\\appdata\\local\\programs\\python\\python39\\lib\\site-packages\\shap\\explainers\\_explainer.py\u001b[0m in \u001b[0;36m__call__\u001b[1;34m(self, max_evals, main_effects, error_bounds, batch_size, outputs, silent, *args, **kwargs)\u001b[0m\n\u001b[0;32m    264\u001b[0m             \u001b[0mfeature_names\u001b[0m \u001b[1;33m=\u001b[0m \u001b[1;33m[\u001b[0m\u001b[1;33m[\u001b[0m\u001b[1;33m]\u001b[0m \u001b[1;32mfor\u001b[0m \u001b[0m_\u001b[0m \u001b[1;32min\u001b[0m \u001b[0mrange\u001b[0m\u001b[1;33m(\u001b[0m\u001b[0mlen\u001b[0m\u001b[1;33m(\u001b[0m\u001b[0margs\u001b[0m\u001b[1;33m)\u001b[0m\u001b[1;33m)\u001b[0m\u001b[1;33m]\u001b[0m\u001b[1;33m\u001b[0m\u001b[1;33m\u001b[0m\u001b[0m\n\u001b[0;32m    265\u001b[0m         \u001b[1;32mfor\u001b[0m \u001b[0mrow_args\u001b[0m \u001b[1;32min\u001b[0m \u001b[0mshow_progress\u001b[0m\u001b[1;33m(\u001b[0m\u001b[0mzip\u001b[0m\u001b[1;33m(\u001b[0m\u001b[1;33m*\u001b[0m\u001b[0margs\u001b[0m\u001b[1;33m)\u001b[0m\u001b[1;33m,\u001b[0m \u001b[0mnum_rows\u001b[0m\u001b[1;33m,\u001b[0m \u001b[0mself\u001b[0m\u001b[1;33m.\u001b[0m\u001b[0m__class__\u001b[0m\u001b[1;33m.\u001b[0m\u001b[0m__name__\u001b[0m\u001b[1;33m+\u001b[0m\u001b[1;34m\" explainer\"\u001b[0m\u001b[1;33m,\u001b[0m \u001b[0msilent\u001b[0m\u001b[1;33m)\u001b[0m\u001b[1;33m:\u001b[0m\u001b[1;33m\u001b[0m\u001b[1;33m\u001b[0m\u001b[0m\n\u001b[1;32m--> 266\u001b[1;33m             row_result = self.explain_row(\n\u001b[0m\u001b[0;32m    267\u001b[0m                 \u001b[1;33m*\u001b[0m\u001b[0mrow_args\u001b[0m\u001b[1;33m,\u001b[0m \u001b[0mmax_evals\u001b[0m\u001b[1;33m=\u001b[0m\u001b[0mmax_evals\u001b[0m\u001b[1;33m,\u001b[0m \u001b[0mmain_effects\u001b[0m\u001b[1;33m=\u001b[0m\u001b[0mmain_effects\u001b[0m\u001b[1;33m,\u001b[0m \u001b[0merror_bounds\u001b[0m\u001b[1;33m=\u001b[0m\u001b[0merror_bounds\u001b[0m\u001b[1;33m,\u001b[0m\u001b[1;33m\u001b[0m\u001b[1;33m\u001b[0m\u001b[0m\n\u001b[0;32m    268\u001b[0m                 \u001b[0mbatch_size\u001b[0m\u001b[1;33m=\u001b[0m\u001b[0mbatch_size\u001b[0m\u001b[1;33m,\u001b[0m \u001b[0moutputs\u001b[0m\u001b[1;33m=\u001b[0m\u001b[0moutputs\u001b[0m\u001b[1;33m,\u001b[0m \u001b[0msilent\u001b[0m\u001b[1;33m=\u001b[0m\u001b[0msilent\u001b[0m\u001b[1;33m,\u001b[0m \u001b[1;33m**\u001b[0m\u001b[0mkwargs\u001b[0m\u001b[1;33m\u001b[0m\u001b[1;33m\u001b[0m\u001b[0m\n",
      "\u001b[1;32mc:\\users\\mike\\appdata\\local\\programs\\python\\python39\\lib\\site-packages\\shap\\explainers\\_permutation.py\u001b[0m in \u001b[0;36mexplain_row\u001b[1;34m(self, max_evals, main_effects, error_bounds, batch_size, outputs, silent, *row_args)\u001b[0m\n\u001b[0;32m     90\u001b[0m \u001b[1;33m\u001b[0m\u001b[0m\n\u001b[0;32m     91\u001b[0m         \u001b[1;31m# build a masked version of the model for the current input sample\u001b[0m\u001b[1;33m\u001b[0m\u001b[1;33m\u001b[0m\u001b[1;33m\u001b[0m\u001b[0m\n\u001b[1;32m---> 92\u001b[1;33m         \u001b[0mfm\u001b[0m \u001b[1;33m=\u001b[0m \u001b[0mMaskedModel\u001b[0m\u001b[1;33m(\u001b[0m\u001b[0mself\u001b[0m\u001b[1;33m.\u001b[0m\u001b[0mmodel\u001b[0m\u001b[1;33m,\u001b[0m \u001b[0mself\u001b[0m\u001b[1;33m.\u001b[0m\u001b[0mmasker\u001b[0m\u001b[1;33m,\u001b[0m \u001b[0mself\u001b[0m\u001b[1;33m.\u001b[0m\u001b[0mlink\u001b[0m\u001b[1;33m,\u001b[0m \u001b[0mself\u001b[0m\u001b[1;33m.\u001b[0m\u001b[0mlinearize_link\u001b[0m\u001b[1;33m,\u001b[0m \u001b[1;33m*\u001b[0m\u001b[0mrow_args\u001b[0m\u001b[1;33m)\u001b[0m\u001b[1;33m\u001b[0m\u001b[1;33m\u001b[0m\u001b[0m\n\u001b[0m\u001b[0;32m     93\u001b[0m \u001b[1;33m\u001b[0m\u001b[0m\n\u001b[0;32m     94\u001b[0m         \u001b[1;31m# by default we run 10 permutations forward and backward\u001b[0m\u001b[1;33m\u001b[0m\u001b[1;33m\u001b[0m\u001b[1;33m\u001b[0m\u001b[0m\n",
      "\u001b[1;32mc:\\users\\mike\\appdata\\local\\programs\\python\\python39\\lib\\site-packages\\shap\\utils\\_masked_model.py\u001b[0m in \u001b[0;36m__init__\u001b[1;34m(self, model, masker, link, linearize_link, *args)\u001b[0m\n\u001b[0;32m     26\u001b[0m         \u001b[1;31m# if the masker supports it, save what positions vary from the background\u001b[0m\u001b[1;33m\u001b[0m\u001b[1;33m\u001b[0m\u001b[1;33m\u001b[0m\u001b[0m\n\u001b[0;32m     27\u001b[0m         \u001b[1;32mif\u001b[0m \u001b[0mcallable\u001b[0m\u001b[1;33m(\u001b[0m\u001b[0mgetattr\u001b[0m\u001b[1;33m(\u001b[0m\u001b[0mself\u001b[0m\u001b[1;33m.\u001b[0m\u001b[0mmasker\u001b[0m\u001b[1;33m,\u001b[0m \u001b[1;34m\"invariants\"\u001b[0m\u001b[1;33m,\u001b[0m \u001b[1;32mNone\u001b[0m\u001b[1;33m)\u001b[0m\u001b[1;33m)\u001b[0m\u001b[1;33m:\u001b[0m\u001b[1;33m\u001b[0m\u001b[1;33m\u001b[0m\u001b[0m\n\u001b[1;32m---> 28\u001b[1;33m             \u001b[0mself\u001b[0m\u001b[1;33m.\u001b[0m\u001b[0m_variants\u001b[0m \u001b[1;33m=\u001b[0m \u001b[1;33m~\u001b[0m\u001b[0mself\u001b[0m\u001b[1;33m.\u001b[0m\u001b[0mmasker\u001b[0m\u001b[1;33m.\u001b[0m\u001b[0minvariants\u001b[0m\u001b[1;33m(\u001b[0m\u001b[1;33m*\u001b[0m\u001b[0margs\u001b[0m\u001b[1;33m)\u001b[0m\u001b[1;33m\u001b[0m\u001b[1;33m\u001b[0m\u001b[0m\n\u001b[0m\u001b[0;32m     29\u001b[0m             \u001b[0mself\u001b[0m\u001b[1;33m.\u001b[0m\u001b[0m_variants_column_sums\u001b[0m \u001b[1;33m=\u001b[0m \u001b[0mself\u001b[0m\u001b[1;33m.\u001b[0m\u001b[0m_variants\u001b[0m\u001b[1;33m.\u001b[0m\u001b[0msum\u001b[0m\u001b[1;33m(\u001b[0m\u001b[1;36m0\u001b[0m\u001b[1;33m)\u001b[0m\u001b[1;33m\u001b[0m\u001b[1;33m\u001b[0m\u001b[0m\n\u001b[0;32m     30\u001b[0m             self._variants_row_inds = [\n",
      "\u001b[1;32mc:\\users\\mike\\appdata\\local\\programs\\python\\python39\\lib\\site-packages\\shap\\maskers\\_tabular.py\u001b[0m in \u001b[0;36minvariants\u001b[1;34m(self, x)\u001b[0m\n\u001b[0;32m    143\u001b[0m         \u001b[1;31m# make sure we got valid data\u001b[0m\u001b[1;33m\u001b[0m\u001b[1;33m\u001b[0m\u001b[1;33m\u001b[0m\u001b[0m\n\u001b[0;32m    144\u001b[0m         \u001b[1;32mif\u001b[0m \u001b[0mx\u001b[0m\u001b[1;33m.\u001b[0m\u001b[0mshape\u001b[0m \u001b[1;33m!=\u001b[0m \u001b[0mself\u001b[0m\u001b[1;33m.\u001b[0m\u001b[0mdata\u001b[0m\u001b[1;33m.\u001b[0m\u001b[0mshape\u001b[0m\u001b[1;33m[\u001b[0m\u001b[1;36m1\u001b[0m\u001b[1;33m:\u001b[0m\u001b[1;33m]\u001b[0m\u001b[1;33m:\u001b[0m\u001b[1;33m\u001b[0m\u001b[1;33m\u001b[0m\u001b[0m\n\u001b[1;32m--> 145\u001b[1;33m             raise DimensionError(\n\u001b[0m\u001b[0;32m    146\u001b[0m                 \u001b[1;34m\"The passed data does not match the background shape expected by the masker! The data of shape \"\u001b[0m \u001b[1;33m+\u001b[0m\u001b[0;31m \u001b[0m\u001b[0;31m\\\u001b[0m\u001b[1;33m\u001b[0m\u001b[1;33m\u001b[0m\u001b[0m\n\u001b[0;32m    147\u001b[0m                 \u001b[0mstr\u001b[0m\u001b[1;33m(\u001b[0m\u001b[0mx\u001b[0m\u001b[1;33m.\u001b[0m\u001b[0mshape\u001b[0m\u001b[1;33m)\u001b[0m \u001b[1;33m+\u001b[0m \u001b[1;34m\" was passed while the masker expected data of shape \"\u001b[0m \u001b[1;33m+\u001b[0m \u001b[0mstr\u001b[0m\u001b[1;33m(\u001b[0m\u001b[0mself\u001b[0m\u001b[1;33m.\u001b[0m\u001b[0mdata\u001b[0m\u001b[1;33m.\u001b[0m\u001b[0mshape\u001b[0m\u001b[1;33m[\u001b[0m\u001b[1;36m1\u001b[0m\u001b[1;33m:\u001b[0m\u001b[1;33m]\u001b[0m\u001b[1;33m)\u001b[0m \u001b[1;33m+\u001b[0m \u001b[1;34m\".\"\u001b[0m\u001b[1;33m\u001b[0m\u001b[1;33m\u001b[0m\u001b[0m\n",
      "\u001b[1;31mDimensionError\u001b[0m: The passed data does not match the background shape expected by the masker! The data of shape (1, 393) was passed while the masker expected data of shape (393,)."
     ]
    }
   ],
   "source": [
    "preproc = grid.best_estimator_.steps[0][1].transform\n",
    "X_test_preprocessed = preproc(X_test).reshape(X_test.shape[0], -1)\n",
    "\n",
    "def predict_proba(x):\n",
    "    return grid.best_estimator_.steps[1][1].predict_proba(x)[:,1]\n",
    "\n",
    "explainer_top20 = shap.Explainer(predict_proba, X_test_preprocessed)\n",
    "shap_values_top20 = explainer_top20(X_test_preprocessed)"
   ]
  },
  {
   "cell_type": "code",
   "execution_count": 229,
   "id": "4e76c05d",
   "metadata": {},
   "outputs": [
    {
     "data": {
      "text/plain": [
       "(338, 393)"
      ]
     },
     "execution_count": 229,
     "metadata": {},
     "output_type": "execute_result"
    }
   ],
   "source": [
    "X_test_preprocessed.reshape()"
   ]
  },
  {
   "cell_type": "code",
   "execution_count": 226,
   "id": "80c2f3c2",
   "metadata": {},
   "outputs": [
    {
     "ename": "TypeError",
     "evalue": "__init__() got an unexpected keyword argument 'shape'",
     "output_type": "error",
     "traceback": [
      "\u001b[1;31m---------------------------------------------------------------------------\u001b[0m",
      "\u001b[1;31mTypeError\u001b[0m                                 Traceback (most recent call last)",
      "\u001b[1;32m<ipython-input-226-6a790d8486b6>\u001b[0m in \u001b[0;36m<module>\u001b[1;34m\u001b[0m\n\u001b[0;32m      9\u001b[0m \u001b[1;33m\u001b[0m\u001b[0m\n\u001b[0;32m     10\u001b[0m \u001b[1;31m# Create the SHAP explainer object with the custom masker function\u001b[0m\u001b[1;33m\u001b[0m\u001b[1;33m\u001b[0m\u001b[1;33m\u001b[0m\u001b[0m\n\u001b[1;32m---> 11\u001b[1;33m \u001b[0mexplainer_top20\u001b[0m \u001b[1;33m=\u001b[0m \u001b[0mshap\u001b[0m\u001b[1;33m.\u001b[0m\u001b[0mExplainer\u001b[0m\u001b[1;33m(\u001b[0m\u001b[0mpredict_proba\u001b[0m\u001b[1;33m,\u001b[0m \u001b[0mX_test_preprocessed\u001b[0m\u001b[1;33m,\u001b[0m \u001b[0mmasker\u001b[0m\u001b[1;33m=\u001b[0m\u001b[0mcustom_masker\u001b[0m\u001b[1;33m(\u001b[0m\u001b[0mX_test_preprocessed\u001b[0m\u001b[1;33m.\u001b[0m\u001b[0mshape\u001b[0m\u001b[1;33m)\u001b[0m\u001b[1;33m)\u001b[0m\u001b[1;33m\u001b[0m\u001b[1;33m\u001b[0m\u001b[0m\n\u001b[0m\u001b[0;32m     12\u001b[0m \u001b[1;33m\u001b[0m\u001b[0m\n\u001b[0;32m     13\u001b[0m \u001b[1;33m\u001b[0m\u001b[0m\n",
      "\u001b[1;32m<ipython-input-226-6a790d8486b6>\u001b[0m in \u001b[0;36mcustom_masker\u001b[1;34m(shape)\u001b[0m\n\u001b[0;32m      3\u001b[0m \u001b[1;33m\u001b[0m\u001b[0m\n\u001b[0;32m      4\u001b[0m \u001b[1;32mdef\u001b[0m \u001b[0mcustom_masker\u001b[0m\u001b[1;33m(\u001b[0m\u001b[0mshape\u001b[0m\u001b[1;33m)\u001b[0m\u001b[1;33m:\u001b[0m\u001b[1;33m\u001b[0m\u001b[1;33m\u001b[0m\u001b[0m\n\u001b[1;32m----> 5\u001b[1;33m     \u001b[1;32mreturn\u001b[0m \u001b[0mshap\u001b[0m\u001b[1;33m.\u001b[0m\u001b[0mmaskers\u001b[0m\u001b[1;33m.\u001b[0m\u001b[0mIndependent\u001b[0m\u001b[1;33m(\u001b[0m\u001b[1;32mlambda\u001b[0m \u001b[0mx\u001b[0m\u001b[1;33m:\u001b[0m \u001b[0mx\u001b[0m\u001b[1;33m,\u001b[0m \u001b[0mshape\u001b[0m\u001b[1;33m=\u001b[0m\u001b[0mshape\u001b[0m\u001b[1;33m)\u001b[0m\u001b[1;33m\u001b[0m\u001b[1;33m\u001b[0m\u001b[0m\n\u001b[0m\u001b[0;32m      6\u001b[0m \u001b[1;33m\u001b[0m\u001b[0m\n\u001b[0;32m      7\u001b[0m \u001b[1;32mdef\u001b[0m \u001b[0mpredict_proba\u001b[0m\u001b[1;33m(\u001b[0m\u001b[0mx\u001b[0m\u001b[1;33m)\u001b[0m\u001b[1;33m:\u001b[0m\u001b[1;33m\u001b[0m\u001b[1;33m\u001b[0m\u001b[0m\n",
      "\u001b[1;31mTypeError\u001b[0m: __init__() got an unexpected keyword argument 'shape'"
     ]
    }
   ],
   "source": [
    "preproc = grid.best_estimator_.steps[0][1].transform\n",
    "X_test_preprocessed = preproc(X_test).reshape(X_test.shape[0], -1)\n",
    "\n",
    "def custom_masker(shape):\n",
    "    return shap.maskers.Independent(lambda x: x, shape=shape)\n",
    "\n",
    "def predict_proba(x):\n",
    "    return grid.best_estimator_.steps[1][1].predict_proba(x)[:,1]\n",
    "\n",
    "# Create the SHAP explainer object with the custom masker function\n",
    "explainer_top20 = shap.Explainer(predict_proba, X_test_preprocessed, masker=custom_masker(X_test_preprocessed.shape))\n",
    "\n",
    "\n",
    "\n",
    "# explainer_top20 = shap.Explainer(predict_proba, X_test_preprocessed)\n",
    "# shap_values_top20 = explainer_top20(X_test_preprocessed)"
   ]
  },
  {
   "cell_type": "code",
   "execution_count": 227,
   "id": "1bcefedb",
   "metadata": {},
   "outputs": [
    {
     "ename": "TypeError",
     "evalue": "__init__() got an unexpected keyword argument 'shape'",
     "output_type": "error",
     "traceback": [
      "\u001b[1;31m---------------------------------------------------------------------------\u001b[0m",
      "\u001b[1;31mTypeError\u001b[0m                                 Traceback (most recent call last)",
      "\u001b[1;32m<ipython-input-227-943a9e5d4929>\u001b[0m in \u001b[0;36m<module>\u001b[1;34m\u001b[0m\n\u001b[0;32m     12\u001b[0m \u001b[1;33m\u001b[0m\u001b[0m\n\u001b[0;32m     13\u001b[0m \u001b[1;31m# Create the SHAP explainer object with the custom masker function\u001b[0m\u001b[1;33m\u001b[0m\u001b[1;33m\u001b[0m\u001b[1;33m\u001b[0m\u001b[0m\n\u001b[1;32m---> 14\u001b[1;33m \u001b[0mexplainer_top20\u001b[0m \u001b[1;33m=\u001b[0m \u001b[0mshap\u001b[0m\u001b[1;33m.\u001b[0m\u001b[0mExplainer\u001b[0m\u001b[1;33m(\u001b[0m\u001b[0mpredict_proba\u001b[0m\u001b[1;33m,\u001b[0m \u001b[0mX_test_preprocessed\u001b[0m\u001b[1;33m,\u001b[0m \u001b[0mmasker\u001b[0m\u001b[1;33m=\u001b[0m\u001b[0mcustom_masker\u001b[0m\u001b[1;33m(\u001b[0m\u001b[0mX_test_preprocessed\u001b[0m\u001b[1;33m.\u001b[0m\u001b[0mshape\u001b[0m\u001b[1;33m)\u001b[0m\u001b[1;33m)\u001b[0m\u001b[1;33m\u001b[0m\u001b[1;33m\u001b[0m\u001b[0m\n\u001b[0m\u001b[0;32m     15\u001b[0m \u001b[1;33m\u001b[0m\u001b[0m\n\u001b[0;32m     16\u001b[0m \u001b[1;31m# Compute the SHAP values for the test set\u001b[0m\u001b[1;33m\u001b[0m\u001b[1;33m\u001b[0m\u001b[1;33m\u001b[0m\u001b[0m\n",
      "\u001b[1;32m<ipython-input-227-943a9e5d4929>\u001b[0m in \u001b[0;36mcustom_masker\u001b[1;34m(shape)\u001b[0m\n\u001b[0;32m      9\u001b[0m \u001b[1;31m# Define a custom masker function that matches the shape of the preprocessed data\u001b[0m\u001b[1;33m\u001b[0m\u001b[1;33m\u001b[0m\u001b[1;33m\u001b[0m\u001b[0m\n\u001b[0;32m     10\u001b[0m \u001b[1;32mdef\u001b[0m \u001b[0mcustom_masker\u001b[0m\u001b[1;33m(\u001b[0m\u001b[0mshape\u001b[0m\u001b[1;33m)\u001b[0m\u001b[1;33m:\u001b[0m\u001b[1;33m\u001b[0m\u001b[1;33m\u001b[0m\u001b[0m\n\u001b[1;32m---> 11\u001b[1;33m     \u001b[1;32mreturn\u001b[0m \u001b[0mshap\u001b[0m\u001b[1;33m.\u001b[0m\u001b[0mmaskers\u001b[0m\u001b[1;33m.\u001b[0m\u001b[0mIndependent\u001b[0m\u001b[1;33m(\u001b[0m\u001b[1;32mlambda\u001b[0m \u001b[0mx\u001b[0m\u001b[1;33m:\u001b[0m \u001b[0mx\u001b[0m\u001b[1;33m,\u001b[0m \u001b[0mshape\u001b[0m\u001b[1;33m=\u001b[0m\u001b[0mshape\u001b[0m\u001b[1;33m)\u001b[0m\u001b[1;33m\u001b[0m\u001b[1;33m\u001b[0m\u001b[0m\n\u001b[0m\u001b[0;32m     12\u001b[0m \u001b[1;33m\u001b[0m\u001b[0m\n\u001b[0;32m     13\u001b[0m \u001b[1;31m# Create the SHAP explainer object with the custom masker function\u001b[0m\u001b[1;33m\u001b[0m\u001b[1;33m\u001b[0m\u001b[1;33m\u001b[0m\u001b[0m\n",
      "\u001b[1;31mTypeError\u001b[0m: __init__() got an unexpected keyword argument 'shape'"
     ]
    }
   ],
   "source": [
    "preproc = grid.best_estimator_.steps[0][1].transform\n",
    "\n",
    "def predict_proba(x):\n",
    "    return grid.best_estimator_.steps[1][1].predict_proba(x)[:,1]\n",
    "\n",
    "# Preprocess the test data\n",
    "X_test_preprocessed = preproc(X_test).reshape(X_test.shape[0], -1)\n",
    "\n",
    "# Define a custom masker function that matches the shape of the preprocessed data\n",
    "def custom_masker(shape):\n",
    "    return shap.maskers.Independent(lambda x: x, shape=shape)\n",
    "\n",
    "# Create the SHAP explainer object with the custom masker function\n",
    "explainer_top20 = shap.Explainer(predict_proba, X_test_preprocessed, masker=custom_masker(X_test_preprocessed.shape))\n",
    "\n",
    "# Compute the SHAP values for the test set\n",
    "shap_values_top20 = explainer_top20(X_test_preprocessed)"
   ]
  },
  {
   "cell_type": "code",
   "execution_count": 239,
   "id": "8ce0a9b6",
   "metadata": {},
   "outputs": [
    {
     "data": {
      "text/plain": [
       "(393, 1)"
      ]
     },
     "execution_count": 239,
     "metadata": {},
     "output_type": "execute_result"
    }
   ],
   "source": [
    "X_test_preprocessed.toarray()[0, :].reshape(-1, 1)"
   ]
  },
  {
   "cell_type": "code",
   "execution_count": 288,
   "id": "72cd6324",
   "metadata": {},
   "outputs": [
    {
     "ename": "DimensionError",
     "evalue": "The passed data does not match the background shape expected by the masker! The data of shape (1, 393) was passed while the masker expected data of shape (393,).",
     "output_type": "error",
     "traceback": [
      "\u001b[1;31m---------------------------------------------------------------------------\u001b[0m",
      "\u001b[1;31mDimensionError\u001b[0m                            Traceback (most recent call last)",
      "\u001b[1;32m<ipython-input-288-fcf2c9d2cef2>\u001b[0m in \u001b[0;36m<module>\u001b[1;34m\u001b[0m\n\u001b[0;32m     15\u001b[0m \u001b[1;31m# shap_values_top20 = explainer_top20(prueba)\u001b[0m\u001b[1;33m\u001b[0m\u001b[1;33m\u001b[0m\u001b[1;33m\u001b[0m\u001b[0m\n\u001b[0;32m     16\u001b[0m \u001b[0mprueba\u001b[0m \u001b[1;33m=\u001b[0m \u001b[0mX_test_preprocessed\u001b[0m\u001b[1;33m[\u001b[0m\u001b[1;36m0\u001b[0m\u001b[1;33m,\u001b[0m \u001b[1;33m:\u001b[0m\u001b[1;33m]\u001b[0m\u001b[1;33m\u001b[0m\u001b[1;33m\u001b[0m\u001b[0m\n\u001b[1;32m---> 17\u001b[1;33m \u001b[0mshap_values_top20\u001b[0m \u001b[1;33m=\u001b[0m \u001b[0mexplainer_top20\u001b[0m\u001b[1;33m(\u001b[0m\u001b[0mprueba\u001b[0m\u001b[1;33m)\u001b[0m\u001b[1;33m\u001b[0m\u001b[1;33m\u001b[0m\u001b[0m\n\u001b[0m",
      "\u001b[1;32mc:\\users\\mike\\appdata\\local\\programs\\python\\python39\\lib\\site-packages\\shap\\explainers\\_permutation.py\u001b[0m in \u001b[0;36m__call__\u001b[1;34m(self, max_evals, main_effects, error_bounds, batch_size, outputs, silent, *args)\u001b[0m\n\u001b[0;32m     80\u001b[0m         \"\"\" Explain the output of the model on the given arguments.\n\u001b[0;32m     81\u001b[0m         \"\"\"\n\u001b[1;32m---> 82\u001b[1;33m         return super().__call__(\n\u001b[0m\u001b[0;32m     83\u001b[0m             \u001b[1;33m*\u001b[0m\u001b[0margs\u001b[0m\u001b[1;33m,\u001b[0m \u001b[0mmax_evals\u001b[0m\u001b[1;33m=\u001b[0m\u001b[0mmax_evals\u001b[0m\u001b[1;33m,\u001b[0m \u001b[0mmain_effects\u001b[0m\u001b[1;33m=\u001b[0m\u001b[0mmain_effects\u001b[0m\u001b[1;33m,\u001b[0m \u001b[0merror_bounds\u001b[0m\u001b[1;33m=\u001b[0m\u001b[0merror_bounds\u001b[0m\u001b[1;33m,\u001b[0m \u001b[0mbatch_size\u001b[0m\u001b[1;33m=\u001b[0m\u001b[0mbatch_size\u001b[0m\u001b[1;33m,\u001b[0m\u001b[1;33m\u001b[0m\u001b[1;33m\u001b[0m\u001b[0m\n\u001b[0;32m     84\u001b[0m             \u001b[0moutputs\u001b[0m\u001b[1;33m=\u001b[0m\u001b[0moutputs\u001b[0m\u001b[1;33m,\u001b[0m \u001b[0msilent\u001b[0m\u001b[1;33m=\u001b[0m\u001b[0msilent\u001b[0m\u001b[1;33m\u001b[0m\u001b[1;33m\u001b[0m\u001b[0m\n",
      "\u001b[1;32mc:\\users\\mike\\appdata\\local\\programs\\python\\python39\\lib\\site-packages\\shap\\explainers\\_explainer.py\u001b[0m in \u001b[0;36m__call__\u001b[1;34m(self, max_evals, main_effects, error_bounds, batch_size, outputs, silent, *args, **kwargs)\u001b[0m\n\u001b[0;32m    264\u001b[0m             \u001b[0mfeature_names\u001b[0m \u001b[1;33m=\u001b[0m \u001b[1;33m[\u001b[0m\u001b[1;33m[\u001b[0m\u001b[1;33m]\u001b[0m \u001b[1;32mfor\u001b[0m \u001b[0m_\u001b[0m \u001b[1;32min\u001b[0m \u001b[0mrange\u001b[0m\u001b[1;33m(\u001b[0m\u001b[0mlen\u001b[0m\u001b[1;33m(\u001b[0m\u001b[0margs\u001b[0m\u001b[1;33m)\u001b[0m\u001b[1;33m)\u001b[0m\u001b[1;33m]\u001b[0m\u001b[1;33m\u001b[0m\u001b[1;33m\u001b[0m\u001b[0m\n\u001b[0;32m    265\u001b[0m         \u001b[1;32mfor\u001b[0m \u001b[0mrow_args\u001b[0m \u001b[1;32min\u001b[0m \u001b[0mshow_progress\u001b[0m\u001b[1;33m(\u001b[0m\u001b[0mzip\u001b[0m\u001b[1;33m(\u001b[0m\u001b[1;33m*\u001b[0m\u001b[0margs\u001b[0m\u001b[1;33m)\u001b[0m\u001b[1;33m,\u001b[0m \u001b[0mnum_rows\u001b[0m\u001b[1;33m,\u001b[0m \u001b[0mself\u001b[0m\u001b[1;33m.\u001b[0m\u001b[0m__class__\u001b[0m\u001b[1;33m.\u001b[0m\u001b[0m__name__\u001b[0m\u001b[1;33m+\u001b[0m\u001b[1;34m\" explainer\"\u001b[0m\u001b[1;33m,\u001b[0m \u001b[0msilent\u001b[0m\u001b[1;33m)\u001b[0m\u001b[1;33m:\u001b[0m\u001b[1;33m\u001b[0m\u001b[1;33m\u001b[0m\u001b[0m\n\u001b[1;32m--> 266\u001b[1;33m             row_result = self.explain_row(\n\u001b[0m\u001b[0;32m    267\u001b[0m                 \u001b[1;33m*\u001b[0m\u001b[0mrow_args\u001b[0m\u001b[1;33m,\u001b[0m \u001b[0mmax_evals\u001b[0m\u001b[1;33m=\u001b[0m\u001b[0mmax_evals\u001b[0m\u001b[1;33m,\u001b[0m \u001b[0mmain_effects\u001b[0m\u001b[1;33m=\u001b[0m\u001b[0mmain_effects\u001b[0m\u001b[1;33m,\u001b[0m \u001b[0merror_bounds\u001b[0m\u001b[1;33m=\u001b[0m\u001b[0merror_bounds\u001b[0m\u001b[1;33m,\u001b[0m\u001b[1;33m\u001b[0m\u001b[1;33m\u001b[0m\u001b[0m\n\u001b[0;32m    268\u001b[0m                 \u001b[0mbatch_size\u001b[0m\u001b[1;33m=\u001b[0m\u001b[0mbatch_size\u001b[0m\u001b[1;33m,\u001b[0m \u001b[0moutputs\u001b[0m\u001b[1;33m=\u001b[0m\u001b[0moutputs\u001b[0m\u001b[1;33m,\u001b[0m \u001b[0msilent\u001b[0m\u001b[1;33m=\u001b[0m\u001b[0msilent\u001b[0m\u001b[1;33m,\u001b[0m \u001b[1;33m**\u001b[0m\u001b[0mkwargs\u001b[0m\u001b[1;33m\u001b[0m\u001b[1;33m\u001b[0m\u001b[0m\n",
      "\u001b[1;32mc:\\users\\mike\\appdata\\local\\programs\\python\\python39\\lib\\site-packages\\shap\\explainers\\_permutation.py\u001b[0m in \u001b[0;36mexplain_row\u001b[1;34m(self, max_evals, main_effects, error_bounds, batch_size, outputs, silent, *row_args)\u001b[0m\n\u001b[0;32m     90\u001b[0m \u001b[1;33m\u001b[0m\u001b[0m\n\u001b[0;32m     91\u001b[0m         \u001b[1;31m# build a masked version of the model for the current input sample\u001b[0m\u001b[1;33m\u001b[0m\u001b[1;33m\u001b[0m\u001b[1;33m\u001b[0m\u001b[0m\n\u001b[1;32m---> 92\u001b[1;33m         \u001b[0mfm\u001b[0m \u001b[1;33m=\u001b[0m \u001b[0mMaskedModel\u001b[0m\u001b[1;33m(\u001b[0m\u001b[0mself\u001b[0m\u001b[1;33m.\u001b[0m\u001b[0mmodel\u001b[0m\u001b[1;33m,\u001b[0m \u001b[0mself\u001b[0m\u001b[1;33m.\u001b[0m\u001b[0mmasker\u001b[0m\u001b[1;33m,\u001b[0m \u001b[0mself\u001b[0m\u001b[1;33m.\u001b[0m\u001b[0mlink\u001b[0m\u001b[1;33m,\u001b[0m \u001b[0mself\u001b[0m\u001b[1;33m.\u001b[0m\u001b[0mlinearize_link\u001b[0m\u001b[1;33m,\u001b[0m \u001b[1;33m*\u001b[0m\u001b[0mrow_args\u001b[0m\u001b[1;33m)\u001b[0m\u001b[1;33m\u001b[0m\u001b[1;33m\u001b[0m\u001b[0m\n\u001b[0m\u001b[0;32m     93\u001b[0m \u001b[1;33m\u001b[0m\u001b[0m\n\u001b[0;32m     94\u001b[0m         \u001b[1;31m# by default we run 10 permutations forward and backward\u001b[0m\u001b[1;33m\u001b[0m\u001b[1;33m\u001b[0m\u001b[1;33m\u001b[0m\u001b[0m\n",
      "\u001b[1;32mc:\\users\\mike\\appdata\\local\\programs\\python\\python39\\lib\\site-packages\\shap\\utils\\_masked_model.py\u001b[0m in \u001b[0;36m__init__\u001b[1;34m(self, model, masker, link, linearize_link, *args)\u001b[0m\n\u001b[0;32m     26\u001b[0m         \u001b[1;31m# if the masker supports it, save what positions vary from the background\u001b[0m\u001b[1;33m\u001b[0m\u001b[1;33m\u001b[0m\u001b[1;33m\u001b[0m\u001b[0m\n\u001b[0;32m     27\u001b[0m         \u001b[1;32mif\u001b[0m \u001b[0mcallable\u001b[0m\u001b[1;33m(\u001b[0m\u001b[0mgetattr\u001b[0m\u001b[1;33m(\u001b[0m\u001b[0mself\u001b[0m\u001b[1;33m.\u001b[0m\u001b[0mmasker\u001b[0m\u001b[1;33m,\u001b[0m \u001b[1;34m\"invariants\"\u001b[0m\u001b[1;33m,\u001b[0m \u001b[1;32mNone\u001b[0m\u001b[1;33m)\u001b[0m\u001b[1;33m)\u001b[0m\u001b[1;33m:\u001b[0m\u001b[1;33m\u001b[0m\u001b[1;33m\u001b[0m\u001b[0m\n\u001b[1;32m---> 28\u001b[1;33m             \u001b[0mself\u001b[0m\u001b[1;33m.\u001b[0m\u001b[0m_variants\u001b[0m \u001b[1;33m=\u001b[0m \u001b[1;33m~\u001b[0m\u001b[0mself\u001b[0m\u001b[1;33m.\u001b[0m\u001b[0mmasker\u001b[0m\u001b[1;33m.\u001b[0m\u001b[0minvariants\u001b[0m\u001b[1;33m(\u001b[0m\u001b[1;33m*\u001b[0m\u001b[0margs\u001b[0m\u001b[1;33m)\u001b[0m\u001b[1;33m\u001b[0m\u001b[1;33m\u001b[0m\u001b[0m\n\u001b[0m\u001b[0;32m     29\u001b[0m             \u001b[0mself\u001b[0m\u001b[1;33m.\u001b[0m\u001b[0m_variants_column_sums\u001b[0m \u001b[1;33m=\u001b[0m \u001b[0mself\u001b[0m\u001b[1;33m.\u001b[0m\u001b[0m_variants\u001b[0m\u001b[1;33m.\u001b[0m\u001b[0msum\u001b[0m\u001b[1;33m(\u001b[0m\u001b[1;36m0\u001b[0m\u001b[1;33m)\u001b[0m\u001b[1;33m\u001b[0m\u001b[1;33m\u001b[0m\u001b[0m\n\u001b[0;32m     30\u001b[0m             self._variants_row_inds = [\n",
      "\u001b[1;32mc:\\users\\mike\\appdata\\local\\programs\\python\\python39\\lib\\site-packages\\shap\\maskers\\_tabular.py\u001b[0m in \u001b[0;36minvariants\u001b[1;34m(self, x)\u001b[0m\n\u001b[0;32m    143\u001b[0m         \u001b[1;31m# make sure we got valid data\u001b[0m\u001b[1;33m\u001b[0m\u001b[1;33m\u001b[0m\u001b[1;33m\u001b[0m\u001b[0m\n\u001b[0;32m    144\u001b[0m         \u001b[1;32mif\u001b[0m \u001b[0mx\u001b[0m\u001b[1;33m.\u001b[0m\u001b[0mshape\u001b[0m \u001b[1;33m!=\u001b[0m \u001b[0mself\u001b[0m\u001b[1;33m.\u001b[0m\u001b[0mdata\u001b[0m\u001b[1;33m.\u001b[0m\u001b[0mshape\u001b[0m\u001b[1;33m[\u001b[0m\u001b[1;36m1\u001b[0m\u001b[1;33m:\u001b[0m\u001b[1;33m]\u001b[0m\u001b[1;33m:\u001b[0m\u001b[1;33m\u001b[0m\u001b[1;33m\u001b[0m\u001b[0m\n\u001b[1;32m--> 145\u001b[1;33m             raise DimensionError(\n\u001b[0m\u001b[0;32m    146\u001b[0m                 \u001b[1;34m\"The passed data does not match the background shape expected by the masker! The data of shape \"\u001b[0m \u001b[1;33m+\u001b[0m\u001b[0;31m \u001b[0m\u001b[0;31m\\\u001b[0m\u001b[1;33m\u001b[0m\u001b[1;33m\u001b[0m\u001b[0m\n\u001b[0;32m    147\u001b[0m                 \u001b[0mstr\u001b[0m\u001b[1;33m(\u001b[0m\u001b[0mx\u001b[0m\u001b[1;33m.\u001b[0m\u001b[0mshape\u001b[0m\u001b[1;33m)\u001b[0m \u001b[1;33m+\u001b[0m \u001b[1;34m\" was passed while the masker expected data of shape \"\u001b[0m \u001b[1;33m+\u001b[0m \u001b[0mstr\u001b[0m\u001b[1;33m(\u001b[0m\u001b[0mself\u001b[0m\u001b[1;33m.\u001b[0m\u001b[0mdata\u001b[0m\u001b[1;33m.\u001b[0m\u001b[0mshape\u001b[0m\u001b[1;33m[\u001b[0m\u001b[1;36m1\u001b[0m\u001b[1;33m:\u001b[0m\u001b[1;33m]\u001b[0m\u001b[1;33m)\u001b[0m \u001b[1;33m+\u001b[0m \u001b[1;34m\".\"\u001b[0m\u001b[1;33m\u001b[0m\u001b[1;33m\u001b[0m\u001b[0m\n",
      "\u001b[1;31mDimensionError\u001b[0m: The passed data does not match the background shape expected by the masker! The data of shape (1, 393) was passed while the masker expected data of shape (393,)."
     ]
    }
   ],
   "source": [
    "preproc = grid.best_estimator_.steps[0][1].transform\n",
    "\n",
    "def predict_proba(x):\n",
    "    return grid.best_estimator_.steps[1][1].predict_proba(x)[:,1]\n",
    "\n",
    "# Preprocess the test data\n",
    "X_test_preprocessed = preproc(X_test).reshape(X_test.shape[0], -1)\n",
    "\n",
    "# Create the SHAP explainer object with the custom masker function\n",
    "explainer_top20 = shap.Explainer(predict_proba, \n",
    "                                 masker = shap.maskers.Independent(X_test_preprocessed))\n",
    "\n",
    "# Compute the SHAP values for the test set\n",
    "# prueba = X_test_preprocessed[0, :].toarray().flatten()\n",
    "# shap_values_top20 = explainer_top20(prueba)\n",
    "prueba = X_test_preprocessed[0, :]\n",
    "shap_values_top20 = explainer_top20(prueba)"
   ]
  },
  {
   "cell_type": "code",
   "execution_count": 287,
   "id": "dccbbacf",
   "metadata": {},
   "outputs": [
    {
     "data": {
      "text/plain": [
       "array([-0.44253798, -0.09891524,  0.69604184, -0.23523178, -0.48590227,\n",
       "        0.47273335,  0.        ,  0.        ,  0.        ,  0.        ,\n",
       "        0.        ,  0.        ,  0.        ,  0.        ,  0.        ,\n",
       "        0.        ,  0.        ,  0.        ,  0.        ,  0.        ,\n",
       "        0.        ,  0.        ,  0.        ,  0.        ,  0.        ,\n",
       "        0.        ,  0.        ,  0.        ,  0.        ,  0.        ,\n",
       "        0.        ,  0.        ,  0.        ,  0.        ,  0.        ,\n",
       "        0.        ,  0.        ,  0.        ,  0.        ,  0.        ,\n",
       "        0.        ,  0.        ,  0.        ,  0.        ,  0.        ,\n",
       "        0.        ,  0.        ,  0.        ,  0.        ,  0.        ,\n",
       "        0.        ,  0.        ,  0.        ,  0.        ,  0.        ,\n",
       "        0.        ,  0.        ,  0.        ,  0.        ,  0.        ,\n",
       "        0.        ,  0.        ,  0.        ,  0.        ,  0.        ,\n",
       "        0.        ,  0.        ,  0.        ,  0.        ,  0.        ,\n",
       "        0.        ,  0.        ,  0.        ,  0.        ,  0.        ,\n",
       "        0.        ,  0.        ,  0.        ,  0.        ,  0.        ,\n",
       "        0.        ,  0.        ,  0.        ,  0.        ,  0.        ,\n",
       "        0.        ,  0.        ,  0.        ,  0.        ,  0.        ,\n",
       "        0.        ,  0.        ,  0.        ,  0.        ,  0.        ,\n",
       "        0.        ,  0.        ,  0.        ,  0.        ,  0.        ,\n",
       "        0.        ,  0.        ,  0.        ,  0.        ,  0.        ,\n",
       "        0.        ,  0.        ,  0.        ,  0.        ,  0.        ,\n",
       "        0.        ,  0.        ,  0.        ,  0.        ,  0.        ,\n",
       "        0.        ,  0.        ,  0.        ,  0.        ,  0.        ,\n",
       "        0.        ,  0.        ,  0.        ,  0.        ,  0.        ,\n",
       "        0.        ,  0.        ,  0.        ,  0.        ,  0.        ,\n",
       "        0.        ,  0.        ,  0.        ,  0.        ,  0.        ,\n",
       "        0.        ,  0.        ,  0.        ,  0.        ,  0.        ,\n",
       "        0.        ,  0.        ,  0.        ,  0.        ,  0.        ,\n",
       "        0.        ,  0.        ,  0.        ,  0.        ,  1.        ,\n",
       "        0.        ,  0.        ,  0.        ,  0.        ,  0.        ,\n",
       "        0.        ,  0.        ,  0.        ,  0.        ,  0.        ,\n",
       "        0.        ,  0.        ,  0.        ,  0.        ,  0.        ,\n",
       "        0.        ,  0.        ,  0.        ,  0.        ,  0.        ,\n",
       "        0.        ,  0.        ,  0.        ,  0.        ,  0.        ,\n",
       "        0.        ,  0.        ,  0.        ,  0.        ,  0.        ,\n",
       "        0.        ,  0.        ,  0.        ,  0.        ,  0.        ,\n",
       "        0.        ,  0.        ,  0.        ,  0.        ,  0.        ,\n",
       "        0.        ,  0.        ,  0.        ,  0.        ,  0.        ,\n",
       "        0.        ,  0.        ,  0.        ,  0.        ,  0.        ,\n",
       "        0.        ,  0.        ,  0.        ,  0.        ,  0.        ,\n",
       "        0.        ,  0.        ,  0.        ,  0.        ,  0.        ,\n",
       "        0.        ,  0.        ,  0.        ,  0.        ,  0.        ,\n",
       "        0.        ,  0.        ,  0.        ,  0.        ,  0.        ,\n",
       "        0.        ,  0.        ,  0.        ,  0.        ,  0.        ,\n",
       "        0.        ,  0.        ,  0.        ,  0.        ,  0.        ,\n",
       "        0.        ,  0.        ,  0.        ,  0.        ,  0.        ,\n",
       "        0.        ,  0.        ,  0.        ,  0.        ,  0.        ,\n",
       "        0.        ,  0.        ,  0.        ,  0.        ,  0.        ,\n",
       "        0.        ,  0.        ,  0.        ,  0.        ,  0.        ,\n",
       "        0.        ,  0.        ,  0.        ,  0.        ,  0.        ,\n",
       "        0.        ,  0.        ,  0.        ,  0.        ,  0.        ,\n",
       "        0.        ,  0.        ,  0.        ,  0.        ,  0.        ,\n",
       "        0.        ,  0.        ,  0.        ,  0.        ,  0.        ,\n",
       "        0.        ,  0.        ,  0.        ,  0.        ,  0.        ,\n",
       "        0.        ,  0.        ,  0.        ,  0.        ,  0.        ,\n",
       "        0.        ,  0.        ,  0.        ,  0.        ,  0.        ,\n",
       "        0.        ,  0.        ,  0.        ,  0.        ,  0.        ,\n",
       "        0.        ,  0.        ,  0.        ,  0.        ,  0.        ,\n",
       "        0.        ,  0.        ,  0.        ,  0.        ,  0.        ,\n",
       "        0.        ,  0.        ,  0.        ,  0.        ,  0.        ,\n",
       "        0.        ,  0.        ,  0.        ,  0.        ,  0.        ,\n",
       "        0.        ,  0.        ,  0.        ,  0.        ,  0.        ,\n",
       "        0.        ,  0.        ,  0.        ,  0.        ,  0.        ,\n",
       "        0.        ,  0.        ,  0.        ,  0.        ,  0.        ,\n",
       "        0.        ,  0.        ,  0.        ,  0.        ,  0.        ,\n",
       "        0.        ,  0.        ,  0.        ,  0.        ,  0.        ,\n",
       "        0.        ,  0.        ,  0.        ,  0.        ,  0.        ,\n",
       "        0.        ,  1.        ,  0.        ,  0.        ,  0.        ,\n",
       "        0.        ,  0.        ,  0.        ,  0.        ,  0.        ,\n",
       "        0.        ,  0.        ,  0.        ,  0.        ,  0.        ,\n",
       "        0.        ,  0.        ,  0.        ,  0.        ,  0.        ,\n",
       "        0.        ,  0.        ,  0.        ,  0.        ,  0.        ,\n",
       "        0.        ,  0.        ,  0.        ,  0.        ,  0.        ,\n",
       "        0.        ,  0.        ,  0.        ,  0.        ,  0.        ,\n",
       "        0.        ,  0.        ,  0.        ,  0.        ,  0.        ,\n",
       "        0.        ,  0.        ,  0.        ,  0.        ,  0.        ,\n",
       "        1.        ,  0.        ,  0.        ,  0.        ,  0.        ,\n",
       "        0.        ,  0.        ,  0.        ])"
      ]
     },
     "execution_count": 287,
     "metadata": {},
     "output_type": "execute_result"
    }
   ],
   "source": [
    "prueba"
   ]
  },
  {
   "cell_type": "code",
   "execution_count": null,
   "id": "3111be37",
   "metadata": {},
   "outputs": [],
   "source": []
  },
  {
   "cell_type": "code",
   "execution_count": null,
   "id": "98999df0",
   "metadata": {},
   "outputs": [],
   "source": []
  },
  {
   "cell_type": "code",
   "execution_count": null,
   "id": "9ffe380c",
   "metadata": {},
   "outputs": [],
   "source": []
  },
  {
   "cell_type": "code",
   "execution_count": 231,
   "id": "ad53ea01",
   "metadata": {},
   "outputs": [],
   "source": [
    "from eli5.sklearn import PermutationImportance\n",
    "import shap"
   ]
  },
  {
   "cell_type": "code",
   "execution_count": 233,
   "id": "f880c513",
   "metadata": {},
   "outputs": [
    {
     "data": {
      "text/plain": [
       "'0.41.0'"
      ]
     },
     "execution_count": 233,
     "metadata": {},
     "output_type": "execute_result"
    }
   ],
   "source": [
    "shap.__version__"
   ]
  },
  {
   "cell_type": "code",
   "execution_count": 232,
   "id": "4dd00663",
   "metadata": {},
   "outputs": [
    {
     "ename": "AttributeError",
     "evalue": "module 'shap.maskers' has no attribute 'Categorical'",
     "output_type": "error",
     "traceback": [
      "\u001b[1;31m---------------------------------------------------------------------------\u001b[0m",
      "\u001b[1;31mAttributeError\u001b[0m                            Traceback (most recent call last)",
      "\u001b[1;32m<ipython-input-232-3283d14ac723>\u001b[0m in \u001b[0;36m<module>\u001b[1;34m\u001b[0m\n\u001b[0;32m      1\u001b[0m \u001b[1;31m# create a permutation importance object with the trained model and test set\u001b[0m\u001b[1;33m\u001b[0m\u001b[1;33m\u001b[0m\u001b[1;33m\u001b[0m\u001b[0m\n\u001b[1;32m----> 2\u001b[1;33m \u001b[0mmasker\u001b[0m \u001b[1;33m=\u001b[0m \u001b[0mshap\u001b[0m\u001b[1;33m.\u001b[0m\u001b[0mmaskers\u001b[0m\u001b[1;33m.\u001b[0m\u001b[0mCategorical\u001b[0m\u001b[1;33m(\u001b[0m\u001b[0mimpute_value\u001b[0m\u001b[1;33m=\u001b[0m\u001b[1;33m-\u001b[0m\u001b[1;36m1\u001b[0m\u001b[1;33m)\u001b[0m\u001b[1;33m\u001b[0m\u001b[1;33m\u001b[0m\u001b[0m\n\u001b[0m",
      "\u001b[1;31mAttributeError\u001b[0m: module 'shap.maskers' has no attribute 'Categorical'"
     ]
    }
   ],
   "source": [
    "# create a permutation importance object with the trained model and test set\n",
    "masker = shap.maskers.Categorical(impute_value=-1)"
   ]
  },
  {
   "cell_type": "code",
   "execution_count": null,
   "id": "a24626fa",
   "metadata": {},
   "outputs": [],
   "source": [
    "perm = PermutationImportance(grid.best_estimator_['model'], cv=None, refit=False, n_iter=5, random_state=42, scoring='roc_auc', \n",
    "                             n_jobs=-1, verbose=2, pre_dispatch='2*n_jobs', sample_weight=None, masker=masker).fit(X_test, y_test)"
   ]
  },
  {
   "cell_type": "code",
   "execution_count": null,
   "id": "c0935d8b",
   "metadata": {},
   "outputs": [],
   "source": []
  },
  {
   "cell_type": "code",
   "execution_count": 272,
   "id": "0dfa0f4f",
   "metadata": {},
   "outputs": [],
   "source": [
    "from sklearn.inspection import permutation_importance\n",
    "r = permutation_importance(grid.best_estimator_, X_test, y_test, n_repeats=10, random_state=0, )"
   ]
  },
  {
   "cell_type": "code",
   "execution_count": 277,
   "id": "8b3d2030",
   "metadata": {},
   "outputs": [],
   "source": [
    "features = numerical + categorical"
   ]
  },
  {
   "cell_type": "code",
   "execution_count": 279,
   "id": "b4e89690",
   "metadata": {},
   "outputs": [
    {
     "data": {
      "text/plain": [
       "9"
      ]
     },
     "execution_count": 279,
     "metadata": {},
     "output_type": "execute_result"
    }
   ],
   "source": [
    "len(features)"
   ]
  },
  {
   "cell_type": "code",
   "execution_count": 281,
   "id": "541f98ed",
   "metadata": {},
   "outputs": [
    {
     "data": {
      "text/plain": [
       "10"
      ]
     },
     "execution_count": 281,
     "metadata": {},
     "output_type": "execute_result"
    }
   ],
   "source": [
    "len(r.importances_mean)"
   ]
  },
  {
   "cell_type": "code",
   "execution_count": 284,
   "id": "6e7bf207",
   "metadata": {},
   "outputs": [
    {
     "data": {
      "text/plain": [
       "Index(['Country Name', 'Country Code', 'Year', 'Unemployment Rate', 'PIB p/c',\n",
       "       'Population', 'Life Expectancy', 'Current Health Expenditure',\n",
       "       'Primary Completion Rate', 'Puntos Totales'],\n",
       "      dtype='object')"
      ]
     },
     "execution_count": 284,
     "metadata": {},
     "output_type": "execute_result"
    }
   ],
   "source": [
    "X_test.columns"
   ]
  },
  {
   "cell_type": "code",
   "execution_count": 283,
   "id": "7c513386",
   "metadata": {},
   "outputs": [
    {
     "data": {
      "text/plain": [
       "(338, 10)"
      ]
     },
     "execution_count": 283,
     "metadata": {},
     "output_type": "execute_result"
    }
   ],
   "source": [
    "X_test.shape"
   ]
  },
  {
   "cell_type": "code",
   "execution_count": 286,
   "id": "575fb100",
   "metadata": {},
   "outputs": [
    {
     "name": "stdout",
     "output_type": "stream",
     "text": [
      "0\n",
      "Country Name  0.017 +/- 0.001\n",
      "5\n",
      "Population  0.016 +/- 0.003\n",
      "1\n",
      "Country Code  0.014 +/- 0.001\n",
      "4\n",
      "PIB p/c   0.009 +/- 0.004\n",
      "3\n",
      "Unemployment Rate  0.005 +/- 0.003\n",
      "7\n",
      "Current Health Expenditure  0.004 +/- 0.002\n",
      "8\n",
      "Primary Completion Rate  0.003 +/- 0.001\n",
      "6\n",
      "Life Expectancy  0.003 +/- 0.002\n",
      "2\n",
      "Year      0.002 +/- 0.002\n",
      "9\n",
      "Puntos Totales  0.000 +/- 0.000\n"
     ]
    }
   ],
   "source": [
    "for i in r.importances_mean.argsort()[::-1]:\n",
    "    print(i)\n",
    "#     if r.importances_mean[i] - 2 * r.importances_std[i] > 0:\n",
    "    print(f\"{X_test.columns[i]:<8}\"\n",
    "          f\"  {r.importances_mean[i]:.3f}\"\n",
    "          f\" +/- {r.importances_std[i]:.3f}\")"
   ]
  },
  {
   "cell_type": "code",
   "execution_count": 268,
   "id": "be9e6bbc",
   "metadata": {},
   "outputs": [
    {
     "ename": "ValueError",
     "evalue": "could not convert string to float: 'Russian Federation'",
     "output_type": "error",
     "traceback": [
      "\u001b[1;31m---------------------------------------------------------------------------\u001b[0m",
      "\u001b[1;31mValueError\u001b[0m                                Traceback (most recent call last)",
      "\u001b[1;32m<ipython-input-268-9db92e75d0fd>\u001b[0m in \u001b[0;36m<module>\u001b[1;34m\u001b[0m\n\u001b[0;32m      9\u001b[0m \u001b[1;31m# create a permutation importance object with the trained model and test set\u001b[0m\u001b[1;33m\u001b[0m\u001b[1;33m\u001b[0m\u001b[1;33m\u001b[0m\u001b[0m\n\u001b[0;32m     10\u001b[0m \u001b[0mmasker\u001b[0m \u001b[1;33m=\u001b[0m \u001b[0mMyMasker\u001b[0m\u001b[1;33m(\u001b[0m\u001b[0mX_test\u001b[0m\u001b[1;33m)\u001b[0m\u001b[1;33m\u001b[0m\u001b[1;33m\u001b[0m\u001b[0m\n\u001b[1;32m---> 11\u001b[1;33m perm = PermutationImportance(grid.best_estimator_['model'], cv=None, refit=False, n_iter=5, \n\u001b[0m\u001b[0;32m     12\u001b[0m                              random_state=42, scoring='roc_auc').fit(X_test, y_test)\n",
      "\u001b[1;32mc:\\users\\mike\\appdata\\local\\programs\\python\\python39\\lib\\site-packages\\eli5\\sklearn\\permutation_importance.py\u001b[0m in \u001b[0;36mfit\u001b[1;34m(self, X, y, groups, **fit_params)\u001b[0m\n\u001b[0;32m    197\u001b[0m             \u001b[0mself\u001b[0m\u001b[1;33m.\u001b[0m\u001b[0mestimator_\u001b[0m\u001b[1;33m.\u001b[0m\u001b[0mfit\u001b[0m\u001b[1;33m(\u001b[0m\u001b[0mX\u001b[0m\u001b[1;33m,\u001b[0m \u001b[0my\u001b[0m\u001b[1;33m,\u001b[0m \u001b[1;33m**\u001b[0m\u001b[0mfit_params\u001b[0m\u001b[1;33m)\u001b[0m\u001b[1;33m\u001b[0m\u001b[1;33m\u001b[0m\u001b[0m\n\u001b[0;32m    198\u001b[0m \u001b[1;33m\u001b[0m\u001b[0m\n\u001b[1;32m--> 199\u001b[1;33m         \u001b[0mX\u001b[0m \u001b[1;33m=\u001b[0m \u001b[0mcheck_array\u001b[0m\u001b[1;33m(\u001b[0m\u001b[0mX\u001b[0m\u001b[1;33m,\u001b[0m \u001b[0mforce_all_finite\u001b[0m\u001b[1;33m=\u001b[0m\u001b[1;34m'allow-nan'\u001b[0m\u001b[1;33m)\u001b[0m\u001b[1;33m\u001b[0m\u001b[1;33m\u001b[0m\u001b[0m\n\u001b[0m\u001b[0;32m    200\u001b[0m \u001b[1;33m\u001b[0m\u001b[0m\n\u001b[0;32m    201\u001b[0m         \u001b[1;32mif\u001b[0m \u001b[0mself\u001b[0m\u001b[1;33m.\u001b[0m\u001b[0mcv\u001b[0m \u001b[1;32mnot\u001b[0m \u001b[1;32min\u001b[0m \u001b[1;33m(\u001b[0m\u001b[1;32mNone\u001b[0m\u001b[1;33m,\u001b[0m \u001b[1;34m\"prefit\"\u001b[0m\u001b[1;33m)\u001b[0m\u001b[1;33m:\u001b[0m\u001b[1;33m\u001b[0m\u001b[1;33m\u001b[0m\u001b[0m\n",
      "\u001b[1;32mc:\\users\\mike\\appdata\\local\\programs\\python\\python39\\lib\\site-packages\\sklearn\\utils\\validation.py\u001b[0m in \u001b[0;36minner_f\u001b[1;34m(*args, **kwargs)\u001b[0m\n\u001b[0;32m     61\u001b[0m             \u001b[0mextra_args\u001b[0m \u001b[1;33m=\u001b[0m \u001b[0mlen\u001b[0m\u001b[1;33m(\u001b[0m\u001b[0margs\u001b[0m\u001b[1;33m)\u001b[0m \u001b[1;33m-\u001b[0m \u001b[0mlen\u001b[0m\u001b[1;33m(\u001b[0m\u001b[0mall_args\u001b[0m\u001b[1;33m)\u001b[0m\u001b[1;33m\u001b[0m\u001b[1;33m\u001b[0m\u001b[0m\n\u001b[0;32m     62\u001b[0m             \u001b[1;32mif\u001b[0m \u001b[0mextra_args\u001b[0m \u001b[1;33m<=\u001b[0m \u001b[1;36m0\u001b[0m\u001b[1;33m:\u001b[0m\u001b[1;33m\u001b[0m\u001b[1;33m\u001b[0m\u001b[0m\n\u001b[1;32m---> 63\u001b[1;33m                 \u001b[1;32mreturn\u001b[0m \u001b[0mf\u001b[0m\u001b[1;33m(\u001b[0m\u001b[1;33m*\u001b[0m\u001b[0margs\u001b[0m\u001b[1;33m,\u001b[0m \u001b[1;33m**\u001b[0m\u001b[0mkwargs\u001b[0m\u001b[1;33m)\u001b[0m\u001b[1;33m\u001b[0m\u001b[1;33m\u001b[0m\u001b[0m\n\u001b[0m\u001b[0;32m     64\u001b[0m \u001b[1;33m\u001b[0m\u001b[0m\n\u001b[0;32m     65\u001b[0m             \u001b[1;31m# extra_args > 0\u001b[0m\u001b[1;33m\u001b[0m\u001b[1;33m\u001b[0m\u001b[1;33m\u001b[0m\u001b[0m\n",
      "\u001b[1;32mc:\\users\\mike\\appdata\\local\\programs\\python\\python39\\lib\\site-packages\\sklearn\\utils\\validation.py\u001b[0m in \u001b[0;36mcheck_array\u001b[1;34m(array, accept_sparse, accept_large_sparse, dtype, order, copy, force_all_finite, ensure_2d, allow_nd, ensure_min_samples, ensure_min_features, estimator)\u001b[0m\n\u001b[0;32m    671\u001b[0m                     \u001b[0marray\u001b[0m \u001b[1;33m=\u001b[0m \u001b[0marray\u001b[0m\u001b[1;33m.\u001b[0m\u001b[0mastype\u001b[0m\u001b[1;33m(\u001b[0m\u001b[0mdtype\u001b[0m\u001b[1;33m,\u001b[0m \u001b[0mcasting\u001b[0m\u001b[1;33m=\u001b[0m\u001b[1;34m\"unsafe\"\u001b[0m\u001b[1;33m,\u001b[0m \u001b[0mcopy\u001b[0m\u001b[1;33m=\u001b[0m\u001b[1;32mFalse\u001b[0m\u001b[1;33m)\u001b[0m\u001b[1;33m\u001b[0m\u001b[1;33m\u001b[0m\u001b[0m\n\u001b[0;32m    672\u001b[0m                 \u001b[1;32melse\u001b[0m\u001b[1;33m:\u001b[0m\u001b[1;33m\u001b[0m\u001b[1;33m\u001b[0m\u001b[0m\n\u001b[1;32m--> 673\u001b[1;33m                     \u001b[0marray\u001b[0m \u001b[1;33m=\u001b[0m \u001b[0mnp\u001b[0m\u001b[1;33m.\u001b[0m\u001b[0masarray\u001b[0m\u001b[1;33m(\u001b[0m\u001b[0marray\u001b[0m\u001b[1;33m,\u001b[0m \u001b[0morder\u001b[0m\u001b[1;33m=\u001b[0m\u001b[0morder\u001b[0m\u001b[1;33m,\u001b[0m \u001b[0mdtype\u001b[0m\u001b[1;33m=\u001b[0m\u001b[0mdtype\u001b[0m\u001b[1;33m)\u001b[0m\u001b[1;33m\u001b[0m\u001b[1;33m\u001b[0m\u001b[0m\n\u001b[0m\u001b[0;32m    674\u001b[0m             \u001b[1;32mexcept\u001b[0m \u001b[0mComplexWarning\u001b[0m \u001b[1;32mas\u001b[0m \u001b[0mcomplex_warning\u001b[0m\u001b[1;33m:\u001b[0m\u001b[1;33m\u001b[0m\u001b[1;33m\u001b[0m\u001b[0m\n\u001b[0;32m    675\u001b[0m                 raise ValueError(\"Complex data not supported\\n\"\n",
      "\u001b[1;32mc:\\users\\mike\\appdata\\local\\programs\\python\\python39\\lib\\site-packages\\numpy\\core\\_asarray.py\u001b[0m in \u001b[0;36masarray\u001b[1;34m(a, dtype, order, like)\u001b[0m\n\u001b[0;32m    100\u001b[0m         \u001b[1;32mreturn\u001b[0m \u001b[0m_asarray_with_like\u001b[0m\u001b[1;33m(\u001b[0m\u001b[0ma\u001b[0m\u001b[1;33m,\u001b[0m \u001b[0mdtype\u001b[0m\u001b[1;33m=\u001b[0m\u001b[0mdtype\u001b[0m\u001b[1;33m,\u001b[0m \u001b[0morder\u001b[0m\u001b[1;33m=\u001b[0m\u001b[0morder\u001b[0m\u001b[1;33m,\u001b[0m \u001b[0mlike\u001b[0m\u001b[1;33m=\u001b[0m\u001b[0mlike\u001b[0m\u001b[1;33m)\u001b[0m\u001b[1;33m\u001b[0m\u001b[1;33m\u001b[0m\u001b[0m\n\u001b[0;32m    101\u001b[0m \u001b[1;33m\u001b[0m\u001b[0m\n\u001b[1;32m--> 102\u001b[1;33m     \u001b[1;32mreturn\u001b[0m \u001b[0marray\u001b[0m\u001b[1;33m(\u001b[0m\u001b[0ma\u001b[0m\u001b[1;33m,\u001b[0m \u001b[0mdtype\u001b[0m\u001b[1;33m,\u001b[0m \u001b[0mcopy\u001b[0m\u001b[1;33m=\u001b[0m\u001b[1;32mFalse\u001b[0m\u001b[1;33m,\u001b[0m \u001b[0morder\u001b[0m\u001b[1;33m=\u001b[0m\u001b[0morder\u001b[0m\u001b[1;33m)\u001b[0m\u001b[1;33m\u001b[0m\u001b[1;33m\u001b[0m\u001b[0m\n\u001b[0m\u001b[0;32m    103\u001b[0m \u001b[1;33m\u001b[0m\u001b[0m\n\u001b[0;32m    104\u001b[0m \u001b[1;33m\u001b[0m\u001b[0m\n",
      "\u001b[1;32mc:\\users\\mike\\appdata\\local\\programs\\python\\python39\\lib\\site-packages\\pandas\\core\\generic.py\u001b[0m in \u001b[0;36m__array__\u001b[1;34m(self, dtype)\u001b[0m\n\u001b[0;32m   1897\u001b[0m \u001b[1;33m\u001b[0m\u001b[0m\n\u001b[0;32m   1898\u001b[0m     \u001b[1;32mdef\u001b[0m \u001b[0m__array__\u001b[0m\u001b[1;33m(\u001b[0m\u001b[0mself\u001b[0m\u001b[1;33m,\u001b[0m \u001b[0mdtype\u001b[0m\u001b[1;33m=\u001b[0m\u001b[1;32mNone\u001b[0m\u001b[1;33m)\u001b[0m \u001b[1;33m->\u001b[0m \u001b[0mnp\u001b[0m\u001b[1;33m.\u001b[0m\u001b[0mndarray\u001b[0m\u001b[1;33m:\u001b[0m\u001b[1;33m\u001b[0m\u001b[1;33m\u001b[0m\u001b[0m\n\u001b[1;32m-> 1899\u001b[1;33m         \u001b[1;32mreturn\u001b[0m \u001b[0mnp\u001b[0m\u001b[1;33m.\u001b[0m\u001b[0masarray\u001b[0m\u001b[1;33m(\u001b[0m\u001b[0mself\u001b[0m\u001b[1;33m.\u001b[0m\u001b[0m_values\u001b[0m\u001b[1;33m,\u001b[0m \u001b[0mdtype\u001b[0m\u001b[1;33m=\u001b[0m\u001b[0mdtype\u001b[0m\u001b[1;33m)\u001b[0m\u001b[1;33m\u001b[0m\u001b[1;33m\u001b[0m\u001b[0m\n\u001b[0m\u001b[0;32m   1900\u001b[0m \u001b[1;33m\u001b[0m\u001b[0m\n\u001b[0;32m   1901\u001b[0m     def __array_wrap__(\n",
      "\u001b[1;32mc:\\users\\mike\\appdata\\local\\programs\\python\\python39\\lib\\site-packages\\numpy\\core\\_asarray.py\u001b[0m in \u001b[0;36masarray\u001b[1;34m(a, dtype, order, like)\u001b[0m\n\u001b[0;32m    100\u001b[0m         \u001b[1;32mreturn\u001b[0m \u001b[0m_asarray_with_like\u001b[0m\u001b[1;33m(\u001b[0m\u001b[0ma\u001b[0m\u001b[1;33m,\u001b[0m \u001b[0mdtype\u001b[0m\u001b[1;33m=\u001b[0m\u001b[0mdtype\u001b[0m\u001b[1;33m,\u001b[0m \u001b[0morder\u001b[0m\u001b[1;33m=\u001b[0m\u001b[0morder\u001b[0m\u001b[1;33m,\u001b[0m \u001b[0mlike\u001b[0m\u001b[1;33m=\u001b[0m\u001b[0mlike\u001b[0m\u001b[1;33m)\u001b[0m\u001b[1;33m\u001b[0m\u001b[1;33m\u001b[0m\u001b[0m\n\u001b[0;32m    101\u001b[0m \u001b[1;33m\u001b[0m\u001b[0m\n\u001b[1;32m--> 102\u001b[1;33m     \u001b[1;32mreturn\u001b[0m \u001b[0marray\u001b[0m\u001b[1;33m(\u001b[0m\u001b[0ma\u001b[0m\u001b[1;33m,\u001b[0m \u001b[0mdtype\u001b[0m\u001b[1;33m,\u001b[0m \u001b[0mcopy\u001b[0m\u001b[1;33m=\u001b[0m\u001b[1;32mFalse\u001b[0m\u001b[1;33m,\u001b[0m \u001b[0morder\u001b[0m\u001b[1;33m=\u001b[0m\u001b[0morder\u001b[0m\u001b[1;33m)\u001b[0m\u001b[1;33m\u001b[0m\u001b[1;33m\u001b[0m\u001b[0m\n\u001b[0m\u001b[0;32m    103\u001b[0m \u001b[1;33m\u001b[0m\u001b[0m\n\u001b[0;32m    104\u001b[0m \u001b[1;33m\u001b[0m\u001b[0m\n",
      "\u001b[1;31mValueError\u001b[0m: could not convert string to float: 'Russian Federation'"
     ]
    }
   ],
   "source": [
    "from eli5.sklearn import PermutationImportance\n",
    "import shap\n",
    "\n",
    "class MyMasker(shap.maskers.Independent):\n",
    "    def __init__(self, df):\n",
    "        super().__init__(df)\n",
    "        self.impute_values = [-1] * df.shape[1]  \n",
    "        \n",
    "# create a permutation importance object with the trained model and test set\n",
    "masker = MyMasker(X_test)\n",
    "perm = PermutationImportance(grid.best_estimator_['model'], cv=None, refit=False, n_iter=5, \n",
    "                             random_state=42, scoring='roc_auc').fit(X_test, y_test)"
   ]
  },
  {
   "cell_type": "code",
   "execution_count": null,
   "id": "ad310931",
   "metadata": {},
   "outputs": [],
   "source": []
  },
  {
   "cell_type": "code",
   "execution_count": null,
   "id": "88d2c70f",
   "metadata": {},
   "outputs": [],
   "source": []
  },
  {
   "cell_type": "code",
   "execution_count": null,
   "id": "bf65e757",
   "metadata": {},
   "outputs": [],
   "source": []
  },
  {
   "cell_type": "code",
   "execution_count": null,
   "id": "62e5c2cf",
   "metadata": {},
   "outputs": [],
   "source": []
  },
  {
   "cell_type": "code",
   "execution_count": null,
   "id": "3770c40a",
   "metadata": {},
   "outputs": [],
   "source": []
  },
  {
   "cell_type": "code",
   "execution_count": null,
   "id": "48a3f93a",
   "metadata": {},
   "outputs": [],
   "source": []
  },
  {
   "cell_type": "code",
   "execution_count": 87,
   "id": "b0362e16-8a4d-419e-9b77-8bab09eeda7c",
   "metadata": {},
   "outputs": [
    {
     "data": {
      "text/plain": [
       "[<matplotlib.lines.Line2D at 0x1f0e49d5f10>]"
      ]
     },
     "execution_count": 87,
     "metadata": {},
     "output_type": "execute_result"
    },
    {
     "data": {
      "image/png": "[encoded data removed]",
      "text/plain": [
       "<Figure size 432x288 with 1 Axes>"
      ]
     },
     "metadata": {
      "needs_background": "light"
     },
     "output_type": "display_data"
    }
   ],
   "source": [
    "# fig, ax = plt.subplots()\n",
    "# ax.scatter(y_true, y_pred)\n",
    "# ax.set_xlabel('True Ranking')\n",
    "# ax.set_ylabel('Predicted Ranking')\n",
    "# ax.plot([y_true.min(), y_true.max()], [y_true.min(), y_true.max()], color='black', linestyle='--')"
   ]
  },
  {
   "cell_type": "code",
   "execution_count": 278,
   "id": "c9e53e00-5724-4b4f-b001-262def9e0e8e",
   "metadata": {},
   "outputs": [],
   "source": [
    "# y_pred = grid.best_estimator_.predict(X_test)\n",
    "# y_pred = pd.Series(y_pred, name='Pred')\n",
    "# y_true = np.array(y_test)\n",
    "# y_true = pd.Series(y_true, name='True')"
   ]
  },
  {
   "cell_type": "code",
   "execution_count": 88,
   "id": "e908fc10-7709-462f-bbf5-10fb1be1204b",
   "metadata": {},
   "outputs": [],
   "source": [
    "# fig, ax = plt.subplots()\n",
    "# ax.scatter(y_true, y_pred)\n",
    "# ax.set_xlabel('True Ranking')\n",
    "# ax.set_ylabel('Predicted Ranking')\n",
    "# ax.plot([y_true.min(), y_true.max()], [y_true.min(), y_true.max()], color='black', linestyle='--')"
   ]
  },
  {
   "cell_type": "markdown",
   "id": "19e9ac9e-48b6-4ed5-ab01-f70b800988de",
   "metadata": {},
   "source": [
    "## XG Boost"
   ]
  },
  {
   "cell_type": "code",
   "execution_count": null,
   "id": "e5443bfa-0e08-445a-b503-01f8d5a7060c",
   "metadata": {},
   "outputs": [],
   "source": [
    "! pip install xgboost"
   ]
  },
  {
   "cell_type": "code",
   "execution_count": null,
   "id": "c3312011-982e-401b-a299-b97899f98333",
   "metadata": {},
   "outputs": [],
   "source": [
    "from xgboost import XGBClassifier"
   ]
  },
  {
   "cell_type": "code",
   "execution_count": null,
   "id": "f70ae12a-c278-4c78-a51b-e53d9645f0a7",
   "metadata": {},
   "outputs": [],
   "source": [
    "X_train, X_test, y_train, y_test = train_test_split(df.drop('Ranking', 1), df['Ranking'],\n",
    "                                                    test_size=0.2, random_state=42) "
   ]
  },
  {
   "cell_type": "code",
   "execution_count": null,
   "id": "6194d111-8aa7-4849-95cd-a074ead23c2e",
   "metadata": {},
   "outputs": [],
   "source": [
    "numerical = ['Unemployment Rate', 'PIB p/c', 'Population', 'Life Expectancy',             \n",
    "             'Current Health Expenditure', 'Primary Completion Rate',             \n",
    "             'Prevelance of Food Insecurity'] \n",
    "\n",
    "#dropped gini\n",
    "categorical = ['Country Name', 'Country Code', 'Year'] "
   ]
  },
  {
   "cell_type": "code",
   "execution_count": null,
   "id": "83a8b728-70f4-4659-895c-9ffe9a655c02",
   "metadata": {},
   "outputs": [],
   "source": [
    "standard_scaler = StandardScaler()\n",
    "ohe = OneHotEncoder(handle_unknown=\"ignore\") \n",
    "\n",
    "preprocesador = ColumnTransformer(\n",
    "    transformers=[\n",
    "        (\"num\", standard_scaler, numerical),\n",
    "        (\"cat\", ohe, categorical),\n",
    "    ]\n",
    ") "
   ]
  },
  {
   "cell_type": "code",
   "execution_count": null,
   "id": "eba8168c-d447-45fb-aef7-d3472d713d12",
   "metadata": {},
   "outputs": [],
   "source": [
    "xgb = XGBClassifier(random_state=42)"
   ]
  },
  {
   "cell_type": "code",
   "execution_count": null,
   "id": "5f3d6c4b-e1d3-4310-b403-ade8427bf8fc",
   "metadata": {},
   "outputs": [],
   "source": [
    "parametros = {\n",
    "    'model__learning_rate': np.arange(0.05, 0.3, 0.05),\n",
    "}"
   ]
  },
  {
   "cell_type": "code",
   "execution_count": null,
   "id": "5cda9ece-b063-4765-9bda-feef983e69f1",
   "metadata": {},
   "outputs": [],
   "source": [
    "pipe = Pipeline(steps=[(\"pre\", preprocesador), (\"model\", xgb)]) "
   ]
  },
  {
   "cell_type": "code",
   "execution_count": null,
   "id": "51fc57f5-25a0-4411-98ee-b1db7941d3b8",
   "metadata": {},
   "outputs": [],
   "source": [
    "grid = RandomizedSearchCV(pipe, parametros, n_jobs=-1)"
   ]
  },
  {
   "cell_type": "code",
   "execution_count": null,
   "id": "d73fec48-086e-4b6b-8029-c23cc3024cf0",
   "metadata": {},
   "outputs": [],
   "source": [
    "grid.fit(X_train, y_train)\n",
    "print('Modelo entrenado.')"
   ]
  },
  {
   "cell_type": "code",
   "execution_count": null,
   "id": "75e3c37f-243f-4319-8ab0-7a92756fad82",
   "metadata": {},
   "outputs": [],
   "source": [
    "y_pred = grid.best_estimator_.predict(X_train)\n",
    "y_pred = pd.Series(y_pred, name='Pred')\n",
    "y_true = np.array(y_train)\n",
    "y_true = pd.Series(y_true, name='True')"
   ]
  },
  {
   "cell_type": "code",
   "execution_count": null,
   "id": "275e97dc-50c1-407f-8155-54d6cbf3442a",
   "metadata": {},
   "outputs": [],
   "source": [
    "fig, ax = plt.subplots()\n",
    "ax.scatter(y_true, y_pred)\n",
    "ax.set_xlabel('True Ranking')\n",
    "ax.set_ylabel('Predicted Ranking')\n",
    "ax.plot([y_true.min(), y_true.max()], [y_true.min(), y_true.max()], color='black', linestyle='--')"
   ]
  },
  {
   "cell_type": "code",
   "execution_count": null,
   "id": "81f78eec-ce2b-4999-8074-cf124499c0bd",
   "metadata": {},
   "outputs": [],
   "source": [
    "y_pred = grid.best_estimator_.predict(X_test)\n",
    "y_pred = pd.Series(y_pred, name='Pred')\n",
    "y_true = np.array(y_test)\n",
    "y_true = pd.Series(y_true, name='True')"
   ]
  },
  {
   "cell_type": "code",
   "execution_count": null,
   "id": "4288b1ac-ac1e-481b-9ffb-85581e81ea11",
   "metadata": {},
   "outputs": [],
   "source": [
    "fig, ax = plt.subplots()\n",
    "ax.scatter(y_true, y_pred)\n",
    "ax.set_xlabel('True Ranking')\n",
    "ax.set_ylabel('Predicted Ranking')\n",
    "ax.plot([y_true.min(), y_true.max()], [y_true.min(), y_true.max()], color='black', linestyle='--')"
   ]
  },
  {
   "cell_type": "code",
   "execution_count": null,
   "id": "4c9e524a-8c5d-470e-90e4-4c1c564e7491",
   "metadata": {},
   "outputs": [],
   "source": [
    "y_pred = grid.best_estimator_.predict(X_test)\n",
    "mse = mean_squared_error(y_test, y_pred)\n",
    "print(\"MSE:\", mse)\n",
    "#This measures the average squared difference between the predicted and actual values."
   ]
  },
  {
   "cell_type": "code",
   "execution_count": null,
   "id": "c5e10d63-a770-421c-8878-253303ef18bf",
   "metadata": {},
   "outputs": [],
   "source": [
    "rmse = np.sqrt(mse)\n",
    "print(\"RMSE:\", rmse)\n",
    "#This is the square root of the mean squared error and is another popular metric for regression problems. \n",
    "#It is in the same unit as the target variable, which makes it easier to interpret"
   ]
  },
  {
   "cell_type": "code",
   "execution_count": null,
   "id": "6ff1e364-ba05-4a27-b85d-c8ed322d7469",
   "metadata": {},
   "outputs": [],
   "source": [
    "mae = mean_absolute_error(y_test,y_pred)\n",
    "print(\"MAE:\",mae)\n",
    "#This measures the average absolute difference between the predicted and actual values. \n",
    "#It is less sensitive to outliers than MSE and RMSE."
   ]
  },
  {
   "cell_type": "code",
   "execution_count": null,
   "id": "9be8ca9e-58a1-4d51-ae35-5c9b7f5ac6e5",
   "metadata": {},
   "outputs": [],
   "source": [
    "y_pred = grid.best_estimator_.predict(X_test)\n",
    "r2 = r2_score(y_test, y_pred)\n",
    "print(\"R-squared:\", r2)\n",
    "# This measures the proportion of the variance in the target variable that is explained by the model. \n",
    "#It ranges from 0 to 1, with higher values indicating a better fit."
   ]
  },
  {
   "cell_type": "markdown",
   "id": "aa3bfb62-39fb-429c-b29f-e036bc4460b7",
   "metadata": {},
   "source": [
    "### Under/Over Fitting"
   ]
  },
  {
   "cell_type": "code",
   "execution_count": null,
   "id": "1f462dce-e30c-4cc7-a982-845f7e436ffa",
   "metadata": {},
   "outputs": [],
   "source": [
    "##posible over fitting"
   ]
  },
  {
   "cell_type": "code",
   "execution_count": null,
   "id": "ca894e5a-289b-45ba-a921-1b30b143aeb5",
   "metadata": {},
   "outputs": [],
   "source": []
  },
  {
   "cell_type": "markdown",
   "id": "44970057",
   "metadata": {},
   "source": [
    "## Interpretabilidad\n",
    "\n",
    "    SHAP\n",
    "    LIME\n",
    "    Permutation Importance"
   ]
  },
  {
   "cell_type": "code",
   "execution_count": null,
   "id": "3e753f3a-077f-4a6c-92e7-0f922e862df0",
   "metadata": {},
   "outputs": [],
   "source": []
  }
 ],
 "metadata": {
  "kernelspec": {
   "display_name": "Python 3",
   "language": "python",
   "name": "python3"
  },
  "language_info": {
   "codemirror_mode": {
    "name": "ipython",
    "version": 3
   },
   "file_extension": ".py",
   "mimetype": "text/x-python",
   "name": "python",
   "nbconvert_exporter": "python",
   "pygments_lexer": "ipython3",
   "version": "3.9.5"
  }
 },
 "nbformat": 4,
 "nbformat_minor": 5
}
